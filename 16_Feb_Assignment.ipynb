{
 "cells": [
  {
   "cell_type": "markdown",
   "id": "d1d434e6",
   "metadata": {},
   "source": [
    "### Q1. What is a database? Differentiate between SQL and NoSQL databases."
   ]
  },
  {
   "cell_type": "markdown",
   "id": "79e87372",
   "metadata": {},
   "source": [
    "#### A database is an organized collection of structured data that is stored and accessed electronically. Databases are used to store and manage large amounts of data efficiently and reliably.\n",
    "\n",
    "#### SQL - it stands for Structured Query Language, it stored data in RDBMS (Realtional database management system) which means data is stored in table format(like rows and columns).SQL databases use a structured data model where data is stored in tables with predefined columns and data types\n",
    "\n",
    "#### NoSQL - it stands for Not only SQL, means  NoSQL databases use a flexible schemaless data model where data can be stored in various formats, such as documents, key-value pairs, or graphs."
   ]
  },
  {
   "cell_type": "markdown",
   "id": "49d249e4",
   "metadata": {},
   "source": [
    "### Q2. What is DDL? Explain why CREATE, DROP, ALTER, and TRUNCATE are used with an example"
   ]
  },
  {
   "cell_type": "markdown",
   "id": "7427d696",
   "metadata": {},
   "source": [
    "#### DDL stands for Data Defination Language.\n",
    "#### CREATE command is used for creating a Table or Creating a Database. The example is given below:"
   ]
  },
  {
   "cell_type": "code",
   "execution_count": 1,
   "id": "54fe1500",
   "metadata": {},
   "outputs": [],
   "source": [
    "import mysql.connector\n",
    "mydb = mysql.connector.connect(\n",
    "host = \"localhost\",\n",
    "user = \"root\",\n",
    "password = \"root\"\n",
    ")\n",
    "mycursor = mydb.cursor()\n",
    "mycursor.execute(\"CREATE DATABASE if NOT EXISTS TEST1\")\n",
    "mydb.close()"
   ]
  },
  {
   "cell_type": "markdown",
   "id": "47dcad47",
   "metadata": {},
   "source": [
    "#### ALTER This statement is used to make changes to an existing table, such as adding or dropping columns, modifying column data types or constraints, and renaming the table."
   ]
  },
  {
   "cell_type": "markdown",
   "id": "ad6d6eb0",
   "metadata": {},
   "source": [
    "#### TRUNCATE statement is used to remove all data from a table while preserving the table structure. The TRUNCATE is used to delete all data in a table without deleting the table itself. "
   ]
  },
  {
   "cell_type": "markdown",
   "id": "921910a4",
   "metadata": {},
   "source": [
    "#### DROP statement is used to remove database objects such as tables, views, indexes, or constraints. The DROP statement is used to remove database objects and their associated data from a database."
   ]
  },
  {
   "cell_type": "code",
   "execution_count": 2,
   "id": "f0f926e1",
   "metadata": {},
   "outputs": [],
   "source": [
    "import mysql.connector\n",
    "mydb = mysql.connector.connect(\n",
    "host = \"localhost\",\n",
    "user = \"root\",\n",
    "password = \"root\"\n",
    ")\n",
    "mycursor = mydb.cursor()\n",
    "mycursor.execute(\"DROP DATABASE TEST1\")\n",
    "mydb.close()"
   ]
  },
  {
   "cell_type": "markdown",
   "id": "04177796",
   "metadata": {},
   "source": [
    "### Q3. What is DML? Explain INSERT, UPDATE, and DELETE with an example"
   ]
  },
  {
   "cell_type": "markdown",
   "id": "7a058f2a",
   "metadata": {},
   "source": [
    "#### DML stands for Data Manipulation Language, which is a subset of SQL (Structured Query Language) used to manipulate data stored in relational databases. DML statements are used to add, modify, and delete data from tables in a database"
   ]
  },
  {
   "cell_type": "markdown",
   "id": "23b53cbf",
   "metadata": {},
   "source": [
    "### Insert"
   ]
  },
  {
   "cell_type": "code",
   "execution_count": 3,
   "id": "6a371d70",
   "metadata": {},
   "outputs": [],
   "source": [
    "import mysql.connector\n",
    "mydb=mysql.connector.connect(\n",
    "host='localhost',\n",
    "user='root',\n",
    "password='root'\n",
    ")\n",
    "mycursor = mydb.cursor()\n",
    "mycursor.execute(\"insert into test_db.table_1 values(123,'harry',213.23,233,'leon')\")\n",
    "mydb.commit()\n",
    "mydb.close()"
   ]
  },
  {
   "cell_type": "markdown",
   "id": "7f30b9a8",
   "metadata": {},
   "source": [
    "### Update"
   ]
  },
  {
   "cell_type": "code",
   "execution_count": 4,
   "id": "35ec47f2",
   "metadata": {},
   "outputs": [],
   "source": [
    "import mysql.connector\n",
    "mydb=mysql.connector.connect(\n",
    "host='localhost',\n",
    "user='root',\n",
    "password='root'\n",
    ")\n",
    "mycursor = mydb.cursor()\n",
    "mycursor.execute(\"update test_db.table_1 set c1 = 'Har' where c4 = 123\")\n",
    "mydb.commit()\n",
    "mydb.close()"
   ]
  },
  {
   "cell_type": "markdown",
   "id": "ea1fb100",
   "metadata": {},
   "source": [
    "### Delete "
   ]
  },
  {
   "cell_type": "code",
   "execution_count": 5,
   "id": "5b55c576",
   "metadata": {},
   "outputs": [],
   "source": [
    "import mysql.connector\n",
    "mydb=mysql.connector.connect(\n",
    "host='localhost',\n",
    "user='root',\n",
    "password='root'\n",
    ")\n",
    "mycursor = mydb.cursor()\n",
    "mycursor.execute(\"delete from test_db.table_1 where c4=233\")\n",
    "mydb.commit()\n",
    "mydb.close()"
   ]
  },
  {
   "cell_type": "markdown",
   "id": "9eed6403",
   "metadata": {},
   "source": [
    "###  Q4. What is DQL? Explain SELECT with an example."
   ]
  },
  {
   "cell_type": "markdown",
   "id": "312fb09f",
   "metadata": {},
   "source": [
    "#### DQL (Data Query Language) is a subset of SQL (Structured Query Language) used to retrieve data from a database. DQL statements are used to search for and extract data from tables in a database.Here is an example of a DQL statement using the SELECT statement:"
   ]
  },
  {
   "cell_type": "code",
   "execution_count": 6,
   "id": "8a2bb68b",
   "metadata": {},
   "outputs": [
    {
     "name": "stdout",
     "output_type": "stream",
     "text": [
      "(1233, 'harry', 243.23, 2, 'leon')\n",
      "(1222, 'rohan', 253.23, 33, 'FGS')\n",
      "(1237, 'Tom', 213.43, 2332, 'jkdsk')\n",
      "(1232, 'Harvy', 412.23, 213, 'sds')\n",
      "(1252, 'John', 2233.23, 22, 'SDM')\n"
     ]
    },
    {
     "data": {
      "text/plain": [
       "True"
      ]
     },
     "execution_count": 6,
     "metadata": {},
     "output_type": "execute_result"
    }
   ],
   "source": [
    "import mysql.connector\n",
    "mydb=mysql.connector.connect(\n",
    "host='localhost',\n",
    "user='root',\n",
    "password='root'\n",
    ")\n",
    "mycursor = mydb.cursor()\n",
    "mycursor.execute(\"select * from test_db.table_1\")\n",
    "data = mycursor.fetchall()\n",
    "for i in data:\n",
    "    print(i)\n",
    "mydb.close()\n",
    "mycursor.close()"
   ]
  },
  {
   "cell_type": "markdown",
   "id": "b7c683f9",
   "metadata": {},
   "source": [
    "### Q5. Explain Primary Key and Foreign Key"
   ]
  },
  {
   "cell_type": "markdown",
   "id": "416aa9e5",
   "metadata": {},
   "source": [
    "#### Primary key and foreign key are two important concepts in relational database design. They are used to establish relationships between tables in a database.\n",
    "\n",
    "#### A primary key is a column or set of columns in a table that uniquely identifies each row in that table. It is used to enforce entity integrity, meaning that each row in the table represents a unique entity or object. Primary keys must be unique and cannot be null. A table can have only one primary key.\n",
    "\n",
    "#### For example, in a table of employees, the \"employee_id\" column might be used as the primary key since it uniquely identifies each employee.\n",
    "\n",
    "#### A foreign key is a column or set of columns in one table that refers to the primary key of another table. It is used to enforce referential integrity, meaning that each row in the referencing table corresponds to a valid row in the referenced table. Foreign keys can be null, meaning that a row in the referencing table might not have a corresponding row in the referenced table.\n",
    "\n",
    "#### For example, in a table of orders, the \"customer_id\" column might be a foreign key that refers to the \"customer_id\" column in a table of customers. This ensures that each order corresponds to a valid customer.\n",
    "\n"
   ]
  },
  {
   "cell_type": "code",
   "execution_count": 7,
   "id": "7703e4bf",
   "metadata": {},
   "outputs": [],
   "source": [
    "import mysql.connector\n",
    "\n",
    "# Connect to the database\n",
    "conn = mysql.connector.connect(\n",
    "    host=\"localhost\",\n",
    "    user=\"root\",\n",
    "    password=\"root\",\n",
    "    database=\"test_db\"\n",
    ")\n",
    "\n",
    "# Create a cursor object\n",
    "cursor = conn.cursor()\n",
    "\n",
    "# Create the customers table with a primary key\n",
    "cursor.execute(\"CREATE TABLE if not exists customers (customer_id INT PRIMARY KEY, name VARCHAR(50), email VARCHAR(50))\")\n",
    "\n",
    "# Create the orders table with a foreign key\n",
    "cursor.execute(\"CREATE TABLE if not exists orders (order_id INT PRIMARY KEY, customer_id INT, order_date DATE, FOREIGN KEY (customer_id) REFERENCES customers(customer_id))\")\n",
    "\n",
    "# Insert data into the customers table\n",
    "cursor.execute(\"INSERT INTO customers (customer_id, name, email) VALUES (1, 'John Smith', 'john.smith@example.com')\")\n",
    "cursor.execute(\"INSERT INTO customers (customer_id, name, email) VALUES (2, 'Jane Doe', 'jane.doe@example.com')\")\n",
    "\n",
    "# Insert data into the orders table\n",
    "cursor.execute(\"INSERT INTO orders (order_id, customer_id, order_date) VALUES (1, 1, '2023-04-25')\")\n",
    "cursor.execute(\"INSERT INTO orders (order_id, customer_id, order_date) VALUES (2, 2, '2023-04-26')\")\n",
    "\n",
    "conn.commit()\n",
    "cursor.close()\n",
    "conn.close()\n"
   ]
  },
  {
   "cell_type": "code",
   "execution_count": 8,
   "id": "c4e7ecc5",
   "metadata": {},
   "outputs": [
    {
     "name": "stdout",
     "output_type": "stream",
     "text": [
      "(1, 'John Smith', 'john.smith@example.com')\n",
      "(2, 'Jane Doe', 'jane.doe@example.com')\n"
     ]
    },
    {
     "data": {
      "text/plain": [
       "True"
      ]
     },
     "execution_count": 8,
     "metadata": {},
     "output_type": "execute_result"
    }
   ],
   "source": [
    "import mysql.connector\n",
    "mydb=mysql.connector.connect(\n",
    "host='localhost',\n",
    "user='root',\n",
    "password='root'\n",
    ")\n",
    "mycursor = mydb.cursor()\n",
    "mycursor.execute(\"select * from test_db.customers\")\n",
    "data = mycursor.fetchall()\n",
    "for i in data:\n",
    "    print(i)\n",
    "mydb.close()\n",
    "mycursor.close()"
   ]
  },
  {
   "cell_type": "markdown",
   "id": "2143dfcf",
   "metadata": {},
   "source": [
    "### Q6 . Write a python code to connect MySQL to python. Explain the cursor() and execute() method."
   ]
  },
  {
   "cell_type": "markdown",
   "id": "9e7ba0af",
   "metadata": {},
   "source": [
    "#### In SQL, a cursor is a mechanism for traversing the results of a SELECT statement one row at a time.\n",
    "#### The execute() method is used to execute SQL commands in Python. \n",
    "#### The cursor() method is used to create a cursor object, which allows us to execute SQL statements and traverse the result set. Here's an example of how to use the cursor() and execute() methods in Python with the sql.connector module: "
   ]
  },
  {
   "cell_type": "code",
   "execution_count": 9,
   "id": "f5d39f45",
   "metadata": {},
   "outputs": [
    {
     "name": "stdout",
     "output_type": "stream",
     "text": [
      "(1, 'John Smith', 'john.smith@example.com')\n",
      "(2, 'Jane Doe', 'jane.doe@example.com')\n"
     ]
    },
    {
     "data": {
      "text/plain": [
       "True"
      ]
     },
     "execution_count": 9,
     "metadata": {},
     "output_type": "execute_result"
    }
   ],
   "source": [
    "import mysql.connector\n",
    "mydb=mysql.connector.connect(\n",
    "host='localhost',\n",
    "user='root',\n",
    "password='root'\n",
    ")\n",
    "mycursor = mydb.cursor()\n",
    "mycursor.execute(\"select * from test_db.customers\")\n",
    "data = mycursor.fetchall()\n",
    "for i in data:\n",
    "    print(i)\n",
    "mydb.close()\n",
    "mycursor.close()"
   ]
  },
  {
   "cell_type": "markdown",
   "id": "139a7601",
   "metadata": {},
   "source": [
    "### Q7  Give the order of execution of SQL clauses in an SQL query."
   ]
  },
  {
   "cell_type": "markdown",
   "id": "117a1653",
   "metadata": {},
   "source": [
    "#### The order of execution of SQL clauses in a query generally follows the order below:\n",
    "\n",
    "#### 1. FROM - This clause specifies the table(s) that will be used in the query.\n",
    "\n",
    "#### 2. JOIN - This clause is used to combine rows from two or more tables based on a related column between them.\n",
    "\n",
    "#### 3. WHERE - This clause is used to filter the rows returned by the query based on a specific condition.\n",
    "\n",
    "#### 4. GROUP BY - This clause is used to group the results of a query by one or more columns.\n",
    "\n",
    "#### 5. HAVING - This clause is used to filter the results of a GROUP BY clause based on a specific condition.\n",
    "\n",
    "#### 6. SELECT - This clause is used to select the columns that will be returned by the query.\n",
    "\n",
    "#### 7. DISTINCT - This clause is used to remove duplicate rows from the results of a query.\n",
    "\n",
    "#### 8. ORDER BY - This clause is used to sort the results of a query by one or more columns.\n",
    "\n",
    "#### 9. LIMIT - This clause is used to limit the number of rows returned by the query.\n",
    "\n",
    "#### It's worth noting that not all of these clauses are required in every SQL query, and they can be combined in different ways depending on the specific query being executed. However, this order of execution provides a general guideline for understanding how SQL queries are processed."
   ]
  }
 ],
 "metadata": {
  "kernelspec": {
   "display_name": "Python 3 (ipykernel)",
   "language": "python",
   "name": "python3"
  },
  "language_info": {
   "codemirror_mode": {
    "name": "ipython",
    "version": 3
   },
   "file_extension": ".py",
   "mimetype": "text/x-python",
   "name": "python",
   "nbconvert_exporter": "python",
   "pygments_lexer": "ipython3",
   "version": "3.9.12"
  }
 },
 "nbformat": 4,
 "nbformat_minor": 5
}
