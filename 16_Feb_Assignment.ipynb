{
 "cells": [
  {
   "cell_type": "markdown",
   "id": "d1d434e6",
   "metadata": {},
   "source": [
    "### Q1. What is a database? Differentiate between SQL and NoSQL databases."
   ]
  },
  {
   "cell_type": "markdown",
   "id": "79e87372",
   "metadata": {},
   "source": [
    "#### A database is an organized collection of structured data that is stored and accessed electronically. Databases are used to store and manage large amounts of data efficiently and reliably.\n",
    "\n",
    "#### SQL - it stands for Structured Query Language, it stored data in RDBMS (Realtional database management system) which means data is stored in table format(like rows and columns).SQL databases use a structured data model where data is stored in tables with predefined columns and data types\n",
    "\n",
    "#### NoSQL - it stands for Not only SQL, means  NoSQL databases use a flexible schemaless data model where data can be stored in various formats, such as documents, key-value pairs, or graphs."
   ]
  },
  {
   "cell_type": "markdown",
   "id": "49d249e4",
   "metadata": {},
   "source": [
    "### Q2. What is DDL? Explain why CREATE, DROP, ALTER, and TRUNCATE are used with an example"
   ]
  },
  {
   "cell_type": "markdown",
   "id": "7427d696",
   "metadata": {},
   "source": [
    "#### DDL stands for Data Defination Language.\n",
    "#### CREATE command is used for creating a Table or Creating a Database. The example is given below:"
   ]
  },
  {
   "cell_type": "code",
   "execution_count": 5,
   "id": "54fe1500",
   "metadata": {},
   "outputs": [],
   "source": [
    "import mysql.connector\n",
    "mydb = mysql.connector.connect(\n",
    "host = \"localhost\",\n",
    "user = \"root\",\n",
    "password = \"root\"\n",
    ")\n",
    "mycursor = mydb.cursor()\n",
    "mycursor.execute(\"CREATE DATABASE if NOT EXISTS TEST1\")\n",
    "mydb.close()"
   ]
  },
  {
   "cell_type": "markdown",
   "id": "47dcad47",
   "metadata": {},
   "source": [
    "#### ALTER This statement is used to make changes to an existing table, such as adding or dropping columns, modifying column data types or constraints, and renaming the table."
   ]
  },
  {
   "cell_type": "markdown",
   "id": "ad6d6eb0",
   "metadata": {},
   "source": [
    "#### TRUNCATE statement is used to remove all data from a table while preserving the table structure. The TRUNCATE is used to delete all data in a table without deleting the table itself. "
   ]
  },
  {
   "cell_type": "markdown",
   "id": "921910a4",
   "metadata": {},
   "source": [
    "#### DROP statement is used to remove database objects such as tables, views, indexes, or constraints. The DROP statement is used to remove database objects and their associated data from a database."
   ]
  },
  {
   "cell_type": "code",
   "execution_count": 6,
   "id": "f0f926e1",
   "metadata": {},
   "outputs": [],
   "source": [
    "import mysql.connector\n",
    "mydb = mysql.connector.connect(\n",
    "host = \"localhost\",\n",
    "user = \"root\",\n",
    "password = \"root\"\n",
    ")\n",
    "mycursor = mydb.cursor()\n",
    "mycursor.execute(\"DROP DATABASE TEST1\")\n",
    "mydb.close()"
   ]
  },
  {
   "cell_type": "markdown",
   "id": "04177796",
   "metadata": {},
   "source": [
    "### Q3. What is DML? Explain INSERT, UPDATE, and DELETE with an example"
   ]
  },
  {
   "cell_type": "code",
   "execution_count": null,
   "id": "448120a6",
   "metadata": {},
   "outputs": [],
   "source": []
  },
  {
   "cell_type": "code",
   "execution_count": null,
   "id": "d4f2df11",
   "metadata": {},
   "outputs": [],
   "source": []
  },
  {
   "cell_type": "markdown",
   "id": "9eed6403",
   "metadata": {},
   "source": [
    "###  Q4. What is DQL? Explain SELECT with an example."
   ]
  },
  {
   "cell_type": "code",
   "execution_count": null,
   "id": "9983e5b3",
   "metadata": {},
   "outputs": [],
   "source": []
  },
  {
   "cell_type": "code",
   "execution_count": null,
   "id": "8a2bb68b",
   "metadata": {},
   "outputs": [],
   "source": []
  },
  {
   "cell_type": "markdown",
   "id": "b7c683f9",
   "metadata": {},
   "source": [
    "### Q5. Explain Primary Key and Foreign Key"
   ]
  },
  {
   "cell_type": "code",
   "execution_count": null,
   "id": "d98fa5ca",
   "metadata": {},
   "outputs": [],
   "source": []
  },
  {
   "cell_type": "code",
   "execution_count": null,
   "id": "7703e4bf",
   "metadata": {},
   "outputs": [],
   "source": []
  },
  {
   "cell_type": "markdown",
   "id": "2143dfcf",
   "metadata": {},
   "source": [
    "### Q6 . Write a python code to connect MySQL to python. Explain the cursor() and execute() method."
   ]
  },
  {
   "cell_type": "code",
   "execution_count": null,
   "id": "f5d39f45",
   "metadata": {},
   "outputs": [],
   "source": []
  },
  {
   "cell_type": "code",
   "execution_count": null,
   "id": "bfbbb4fb",
   "metadata": {},
   "outputs": [],
   "source": []
  },
  {
   "cell_type": "markdown",
   "id": "139a7601",
   "metadata": {},
   "source": [
    "### Q7  Give the order of execution of SQL clauses in an SQL query."
   ]
  },
  {
   "cell_type": "code",
   "execution_count": null,
   "id": "aec5f90c",
   "metadata": {},
   "outputs": [],
   "source": []
  }
 ],
 "metadata": {
  "kernelspec": {
   "display_name": "Python 3 (ipykernel)",
   "language": "python",
   "name": "python3"
  },
  "language_info": {
   "codemirror_mode": {
    "name": "ipython",
    "version": 3
   },
   "file_extension": ".py",
   "mimetype": "text/x-python",
   "name": "python",
   "nbconvert_exporter": "python",
   "pygments_lexer": "ipython3",
   "version": "3.9.12"
  }
 },
 "nbformat": 4,
 "nbformat_minor": 5
}
