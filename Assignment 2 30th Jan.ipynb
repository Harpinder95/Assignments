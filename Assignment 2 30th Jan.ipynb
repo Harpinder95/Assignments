{
 "cells": [
  {
   "cell_type": "markdown",
   "id": "cb66e420",
   "metadata": {},
   "source": [
    "### Q1. Write a program to accept percentage from the user ... ?"
   ]
  },
  {
   "cell_type": "code",
   "execution_count": 1,
   "id": "6cc9cc81",
   "metadata": {},
   "outputs": [
    {
     "name": "stdout",
     "output_type": "stream",
     "text": [
      "Please enter your percentage..64\n",
      "You got C grade\n"
     ]
    }
   ],
   "source": [
    "percent = int(input(\"Please enter your percentage..\"))\n",
    "if percent > 90 and percent <=100:\n",
    "    print(\"You got A grade\")\n",
    "elif percent >80 and percent <= 90:\n",
    "    print(\"You got B grade\")\n",
    "elif percent >=60 and percent <=80:\n",
    "    print(\"You got C grade\")\n",
    "elif percent <60:\n",
    "    print(\"You got D grade\")\n",
    "else:\n",
    "    print(\"Please enter Correct input..!\")"
   ]
  },
  {
   "cell_type": "markdown",
   "id": "d64c1adc",
   "metadata": {},
   "source": [
    "### Q2."
   ]
  },
  {
   "cell_type": "code",
   "execution_count": 2,
   "id": "c4c8b152",
   "metadata": {},
   "outputs": [
    {
     "name": "stdout",
     "output_type": "stream",
     "text": [
      "Please enter the cost price 56464\n",
      "Please pay the Tax Amount of 5646.4\n"
     ]
    }
   ],
   "source": [
    "cp = int(input(\"Please enter the cost price \"))\n",
    "tax =0\n",
    "if cp>100000:\n",
    "    tax = (15*cp)/100\n",
    "elif cp>50000 and cp  <=100000:\n",
    "    tax = (10*cp)/100\n",
    "elif cp<=50000:\n",
    "    tax = (5*cp)/100\n",
    "else:\n",
    "    print(\"Please enter the correct input\")\n",
    "print(f\"Please pay the Tax Amount of {tax}\")"
   ]
  },
  {
   "cell_type": "markdown",
   "id": "2bc54874",
   "metadata": {},
   "source": [
    "### Q3"
   ]
  },
  {
   "cell_type": "code",
   "execution_count": 3,
   "id": "8afc64e1",
   "metadata": {},
   "outputs": [
    {
     "name": "stdout",
     "output_type": "stream",
     "text": [
      "Please enter the name of city: delhi\n",
      "The Monument of DELHI is Red Fort.\n"
     ]
    }
   ],
   "source": [
    "city = input(\"Please enter the name of city: \")\n",
    "city = city.lower()\n",
    "if city=='delhi':\n",
    "    print(f\"The Monument of {city.upper()} is Red Fort.\")\n",
    "elif city=='agra':\n",
    "    print(f\"The Monument of {city.upper()} is Taj Mahal.\")\n",
    "elif city=='jaipur':\n",
    "    print(f\"The Monument of {city.upper()} is Jal Mahal.\")\n",
    "else:\n",
    "    print(\"The information is not present for the given city\")"
   ]
  },
  {
   "cell_type": "markdown",
   "id": "97e3487e",
   "metadata": {},
   "source": [
    "### Q4 "
   ]
  },
  {
   "cell_type": "code",
   "execution_count": 4,
   "id": "e33c9657",
   "metadata": {},
   "outputs": [
    {
     "name": "stdout",
     "output_type": "stream",
     "text": [
      "Enter any number...5545454\n",
      "5545454 is divided 13 times by 3 \n"
     ]
    }
   ],
   "source": [
    "org = int(input(\"Enter any number...\"))\n",
    "num = org\n",
    "count = 0\n",
    "while num>=10:\n",
    "    num /=3\n",
    "    count +=1\n",
    "print(f\"{org} is divided {int(count)} times by 3 \")"
   ]
  },
  {
   "cell_type": "markdown",
   "id": "3bdc8e8f",
   "metadata": {},
   "source": [
    "### Q5. why and when to use while loop..?"
   ]
  },
  {
   "cell_type": "markdown",
   "id": "21d0d9b8",
   "metadata": {},
   "source": [
    "#### Ans. when we need to repeat a certain block of code for n number of time then we can use while loop or in other words when we don't know the number of iteration. The example is given below: "
   ]
  },
  {
   "cell_type": "code",
   "execution_count": 5,
   "id": "4dc87ae9",
   "metadata": {},
   "outputs": [
    {
     "name": "stdout",
     "output_type": "stream",
     "text": [
      "Enter the value of n..: 5\n",
      "****\n",
      "****\n",
      "****\n",
      "****\n",
      "****\n",
      "Stars are printed for 5 times\n"
     ]
    }
   ],
   "source": [
    "n = int(input(\"Enter the value of n..: \"))\n",
    "cnt =n\n",
    "while n!=0:\n",
    "    print(\"****\")\n",
    "    n -=1\n",
    "print(f\"Stars are printed for {cnt} times\")\n"
   ]
  },
  {
   "cell_type": "markdown",
   "id": "6416bd2f",
   "metadata": {},
   "source": [
    "### Q6.  use nested while loop to print 3 differnet pattern."
   ]
  },
  {
   "cell_type": "code",
   "execution_count": 6,
   "id": "41f5f2bd",
   "metadata": {},
   "outputs": [
    {
     "name": "stdout",
     "output_type": "stream",
     "text": [
      "#####\n",
      "\n",
      "####\n",
      "\n",
      "###\n",
      "\n",
      "##\n",
      "\n",
      "#\n",
      "\n"
     ]
    }
   ],
   "source": [
    "n = 5\n",
    "while n!=0:\n",
    "    j=n\n",
    "    while j!=0:\n",
    "        print(\"#\",end=\"\")\n",
    "        j -=1\n",
    "    n-=1\n",
    "    print(\"\\n\")"
   ]
  },
  {
   "cell_type": "code",
   "execution_count": 7,
   "id": "5c29f774",
   "metadata": {},
   "outputs": [
    {
     "name": "stdout",
     "output_type": "stream",
     "text": [
      "\n",
      "\n",
      "*\n",
      "\n",
      "**\n",
      "\n",
      "***\n",
      "\n",
      "****\n",
      "\n",
      "the end\n"
     ]
    }
   ],
   "source": [
    "i =0\n",
    "while i!=5:\n",
    "    j=i\n",
    "    while j!=0:\n",
    "        print('*',end=\"\")\n",
    "        j -=1\n",
    "    i +=1\n",
    "    print(\"\\n\")\n",
    "print(\"the end\")"
   ]
  },
  {
   "cell_type": "code",
   "execution_count": 8,
   "id": "8d2bac0c",
   "metadata": {},
   "outputs": [
    {
     "name": "stdout",
     "output_type": "stream",
     "text": [
      "\n",
      "\n",
      "    *\n",
      "\n",
      "   **\n",
      "\n",
      "  ***\n",
      "\n",
      " ****\n",
      "\n",
      "the end\n"
     ]
    }
   ],
   "source": [
    "i =0\n",
    "n=5\n",
    "while i!=5:\n",
    "    j=i\n",
    "    k=n\n",
    "    while j!=0:\n",
    "        while k!=0:\n",
    "            print(\" \",end=\"\")\n",
    "            k -=1\n",
    "        print('*',end=\"\")\n",
    "        j -=1\n",
    "    i +=1\n",
    "    n -=1\n",
    "    print(\"\\n\")\n",
    "print(\"the end\")"
   ]
  },
  {
   "cell_type": "markdown",
   "id": "0a3ebbe5",
   "metadata": {},
   "source": [
    "### Q7. reverse a while loop to display numbers from 10 to 1?\n"
   ]
  },
  {
   "cell_type": "code",
   "execution_count": 9,
   "id": "41bba40a",
   "metadata": {},
   "outputs": [
    {
     "name": "stdout",
     "output_type": "stream",
     "text": [
      "10\n",
      "9\n",
      "8\n",
      "7\n",
      "6\n",
      "5\n",
      "4\n",
      "3\n",
      "2\n",
      "1\n",
      "0\n"
     ]
    }
   ],
   "source": [
    "num = list(range(0,11))\n",
    "cnt = len(num)\n",
    "while cnt!=0:\n",
    "    print(num[cnt-1])\n",
    "    cnt -=1"
   ]
  },
  {
   "cell_type": "markdown",
   "id": "e498caee",
   "metadata": {},
   "source": [
    "### Q8. reverse a while loop to display numbers from 1 to 10?\n",
    "\n",
    "    "
   ]
  },
  {
   "cell_type": "code",
   "execution_count": 10,
   "id": "d3a2c3f1",
   "metadata": {},
   "outputs": [
    {
     "name": "stdout",
     "output_type": "stream",
     "text": [
      "1\n",
      "2\n",
      "3\n",
      "4\n",
      "5\n",
      "6\n",
      "7\n",
      "8\n",
      "9\n",
      "10\n"
     ]
    }
   ],
   "source": [
    "n = 1\n",
    "while n!=11:\n",
    "    print(n)\n",
    "    n+=1"
   ]
  },
  {
   "cell_type": "code",
   "execution_count": null,
   "id": "95c9425c",
   "metadata": {},
   "outputs": [],
   "source": []
  }
 ],
 "metadata": {
  "kernelspec": {
   "display_name": "Python 3 (ipykernel)",
   "language": "python",
   "name": "python3"
  },
  "language_info": {
   "codemirror_mode": {
    "name": "ipython",
    "version": 3
   },
   "file_extension": ".py",
   "mimetype": "text/x-python",
   "name": "python",
   "nbconvert_exporter": "python",
   "pygments_lexer": "ipython3",
   "version": "3.9.12"
  }
 },
 "nbformat": 4,
 "nbformat_minor": 5
}
