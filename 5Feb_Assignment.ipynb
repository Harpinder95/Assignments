{
 "cells": [
  {
   "cell_type": "markdown",
   "id": "794b9209",
   "metadata": {},
   "source": [
    "###  Q1. Explain Class and Object with respect to Object-Oriented Programming. Give a suitable example."
   ]
  },
  {
   "cell_type": "markdown",
   "id": "552773cd",
   "metadata": {},
   "source": [
    "#####  Class is known as the blueprint from which objects can be created. or we can say it is the collection of objects. it can contain methods as well as attributes.\n",
    "\n",
    "##### Objects on the other hand is the instance of a class. Object is a real world entity such as pen, dog, laptop, etc."
   ]
  },
  {
   "cell_type": "markdown",
   "id": "1d461835",
   "metadata": {},
   "source": [
    "#####  Example of class and object is given below"
   ]
  },
  {
   "cell_type": "code",
   "execution_count": 1,
   "id": "9cffc0e6",
   "metadata": {},
   "outputs": [],
   "source": [
    "class dog:\n",
    "    \n",
    "    def __init__(self,breed,color,age):\n",
    "        self.breed = breed\n",
    "        self.color = color\n",
    "        self.age = age\n",
    "    def show_data(self):\n",
    "        return self.breed,self.color,self.age"
   ]
  },
  {
   "cell_type": "code",
   "execution_count": 2,
   "id": "f07383bd",
   "metadata": {},
   "outputs": [],
   "source": [
    "pitbull = dog(\"American bully\",\"Grey\",12)"
   ]
  },
  {
   "cell_type": "code",
   "execution_count": 3,
   "id": "766beed2",
   "metadata": {},
   "outputs": [
    {
     "data": {
      "text/plain": [
       "('American bully', 'Grey', 12)"
      ]
     },
     "execution_count": 3,
     "metadata": {},
     "output_type": "execute_result"
    }
   ],
   "source": [
    "pitbull.show_data()"
   ]
  },
  {
   "cell_type": "code",
   "execution_count": 4,
   "id": "46186855",
   "metadata": {},
   "outputs": [
    {
     "data": {
      "text/plain": [
       "12"
      ]
     },
     "execution_count": 4,
     "metadata": {},
     "output_type": "execute_result"
    }
   ],
   "source": [
    "pitbull.age"
   ]
  },
  {
   "cell_type": "markdown",
   "id": "6826e498",
   "metadata": {},
   "source": [
    "### Q2. Name the four pillars of OOPs.?"
   ]
  },
  {
   "cell_type": "markdown",
   "id": "3388bdf8",
   "metadata": {},
   "source": [
    "#####  Ans.  The four pillars of OOPs are:\n",
    "#####            1) Encapsulation\n",
    "#####            2) Inheritence\n",
    "#####            3) Abstraction\n",
    "#####            4) Polymorphism"
   ]
  },
  {
   "cell_type": "markdown",
   "id": "794c8213",
   "metadata": {},
   "source": [
    "### Q3. Explain why the __init__() function is used. Give a suitable example. "
   ]
  },
  {
   "cell_type": "markdown",
   "id": "b3e18f76",
   "metadata": {},
   "source": [
    "##### Ans. __init__ is a constructor of a class which will automatically be executed whenever an object is created. in this constructor we can initilize the variables as soon as the object is created"
   ]
  },
  {
   "cell_type": "markdown",
   "id": "c0629a74",
   "metadata": {},
   "source": [
    "#####  The example is given below"
   ]
  },
  {
   "cell_type": "code",
   "execution_count": 5,
   "id": "8425ef3b",
   "metadata": {},
   "outputs": [],
   "source": [
    "class car:\n",
    "    \"\"\"Show the functionality of __init__ method\"\"\"\n",
    "    def __init__(self, model, color):\n",
    "        self.model = model\n",
    "        self.color = color\n",
    "    def show_feature(self):\n",
    "        return self.model,self.color"
   ]
  },
  {
   "cell_type": "code",
   "execution_count": 6,
   "id": "cb26aaaf",
   "metadata": {},
   "outputs": [],
   "source": [
    "maruti = car(\"Nexon\",\"Red\")"
   ]
  },
  {
   "cell_type": "code",
   "execution_count": 7,
   "id": "7e273199",
   "metadata": {},
   "outputs": [
    {
     "data": {
      "text/plain": [
       "('Nexon', 'Red')"
      ]
     },
     "execution_count": 7,
     "metadata": {},
     "output_type": "execute_result"
    }
   ],
   "source": [
    "maruti.show_feature()"
   ]
  },
  {
   "cell_type": "markdown",
   "id": "9038b138",
   "metadata": {},
   "source": [
    "### Q4. why self is used in OOPs.?"
   ]
  },
  {
   "cell_type": "markdown",
   "id": "32ba0f23",
   "metadata": {},
   "source": [
    "#####  Ans. Self is used to represents the instance of the class. By using the self we can access the attributes and methods of the class. it binds the attributes with the given arguments. Apart from this \"self\" is a naming convention it is not a keyword which means we can also use another keyword instead of self."
   ]
  },
  {
   "cell_type": "markdown",
   "id": "8ca3c1ea",
   "metadata": {},
   "source": [
    "### Q5. What is inheritance? Give an example for each type of inheritance."
   ]
  },
  {
   "cell_type": "markdown",
   "id": "8d39fd3e",
   "metadata": {},
   "source": [
    "#####  Ans. Inheritence is the way to inherit the properties of the parent class to a child class. Inheritence is mainly of 5 Types\n"
   ]
  },
  {
   "cell_type": "markdown",
   "id": "2ea5a5bc",
   "metadata": {},
   "source": [
    "#####  1)Single level Inheritence"
   ]
  },
  {
   "cell_type": "code",
   "execution_count": 8,
   "id": "43e6ab28",
   "metadata": {},
   "outputs": [],
   "source": [
    "class a:\n",
    "    \n",
    "    def show(self):\n",
    "        print(\"This is parent Function\")\n",
    "        "
   ]
  },
  {
   "cell_type": "code",
   "execution_count": 9,
   "id": "38b9541f",
   "metadata": {},
   "outputs": [],
   "source": [
    "class b(a):\n",
    "    pass"
   ]
  },
  {
   "cell_type": "code",
   "execution_count": 10,
   "id": "071b404f",
   "metadata": {},
   "outputs": [],
   "source": [
    "child = b()"
   ]
  },
  {
   "cell_type": "code",
   "execution_count": 11,
   "id": "76220629",
   "metadata": {},
   "outputs": [
    {
     "name": "stdout",
     "output_type": "stream",
     "text": [
      "This is parent Function\n"
     ]
    }
   ],
   "source": [
    "child.show()"
   ]
  },
  {
   "cell_type": "markdown",
   "id": "fcbc040f",
   "metadata": {},
   "source": [
    "#####  2)Multiple Inheritence"
   ]
  },
  {
   "cell_type": "code",
   "execution_count": 12,
   "id": "b18d4436",
   "metadata": {},
   "outputs": [],
   "source": [
    "class Parent:\n",
    "    \n",
    "    def return_fun(self):\n",
    "        print(\"This is Parent Class\")"
   ]
  },
  {
   "cell_type": "code",
   "execution_count": 13,
   "id": "45d76e61",
   "metadata": {},
   "outputs": [],
   "source": [
    "class child:\n",
    "    \n",
    "    def disp(self):\n",
    "        print(\"This is child Class\")"
   ]
  },
  {
   "cell_type": "code",
   "execution_count": 14,
   "id": "364dcb16",
   "metadata": {},
   "outputs": [],
   "source": [
    "class grandchild(Parent, child):\n",
    "    pass"
   ]
  },
  {
   "cell_type": "code",
   "execution_count": 15,
   "id": "f3597fdb",
   "metadata": {},
   "outputs": [],
   "source": [
    "gc = grandchild()"
   ]
  },
  {
   "cell_type": "code",
   "execution_count": 16,
   "id": "6a4c2424",
   "metadata": {},
   "outputs": [
    {
     "name": "stdout",
     "output_type": "stream",
     "text": [
      "This is child Class\n"
     ]
    }
   ],
   "source": [
    "gc.disp()"
   ]
  },
  {
   "cell_type": "code",
   "execution_count": 17,
   "id": "509012bb",
   "metadata": {},
   "outputs": [
    {
     "name": "stdout",
     "output_type": "stream",
     "text": [
      "This is Parent Class\n"
     ]
    }
   ],
   "source": [
    "gc.return_fun()"
   ]
  },
  {
   "cell_type": "markdown",
   "id": "f13c1006",
   "metadata": {},
   "source": [
    "#####  3)Multilevel Inheritence"
   ]
  },
  {
   "cell_type": "code",
   "execution_count": 18,
   "id": "39775189",
   "metadata": {},
   "outputs": [],
   "source": [
    "class class1:\n",
    "    def shows(self):\n",
    "        print(\"Parent Class\")\n",
    "\n",
    "class class2(class1):\n",
    "    def disps(self):\n",
    "        print(\"Child class\")\n",
    "\n",
    "class class3(class2):\n",
    "    def out(self):\n",
    "        print(\"Grand child class\")"
   ]
  },
  {
   "cell_type": "code",
   "execution_count": 19,
   "id": "8bda5e45",
   "metadata": {},
   "outputs": [],
   "source": [
    "ob = class3()"
   ]
  },
  {
   "cell_type": "code",
   "execution_count": 20,
   "id": "3c3b34ca",
   "metadata": {},
   "outputs": [
    {
     "name": "stdout",
     "output_type": "stream",
     "text": [
      "Child class\n"
     ]
    }
   ],
   "source": [
    "ob.disps()"
   ]
  },
  {
   "cell_type": "code",
   "execution_count": 21,
   "id": "2dec259f",
   "metadata": {},
   "outputs": [
    {
     "name": "stdout",
     "output_type": "stream",
     "text": [
      "Grand child class\n"
     ]
    }
   ],
   "source": [
    "ob.out()"
   ]
  },
  {
   "cell_type": "code",
   "execution_count": 22,
   "id": "ef37b53a",
   "metadata": {},
   "outputs": [
    {
     "name": "stdout",
     "output_type": "stream",
     "text": [
      "Parent Class\n"
     ]
    }
   ],
   "source": [
    "ob.shows()"
   ]
  },
  {
   "cell_type": "markdown",
   "id": "f8fbfc7d",
   "metadata": {},
   "source": [
    "#####  4)Hierarchical Inheritence"
   ]
  },
  {
   "cell_type": "markdown",
   "id": "f30822ec",
   "metadata": {},
   "source": [
    "#####  5)Hybrid Inheritence"
   ]
  }
 ],
 "metadata": {
  "kernelspec": {
   "display_name": "Python 3 (ipykernel)",
   "language": "python",
   "name": "python3"
  },
  "language_info": {
   "codemirror_mode": {
    "name": "ipython",
    "version": 3
   },
   "file_extension": ".py",
   "mimetype": "text/x-python",
   "name": "python",
   "nbconvert_exporter": "python",
   "pygments_lexer": "ipython3",
   "version": "3.9.12"
  }
 },
 "nbformat": 4,
 "nbformat_minor": 5
}
