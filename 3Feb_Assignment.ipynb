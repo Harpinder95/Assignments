{
 "cells": [
  {
   "cell_type": "markdown",
   "id": "b97d5e06",
   "metadata": {},
   "source": [
    "## Q1. Which keyword...?"
   ]
  },
  {
   "cell_type": "markdown",
   "id": "7f7d4b70",
   "metadata": {},
   "source": [
    "### Ans. def keyword is used to create a function in python. Below is the example of return a list of odd numbers in the range of 1 to 25."
   ]
  },
  {
   "cell_type": "code",
   "execution_count": 1,
   "id": "22173237",
   "metadata": {},
   "outputs": [],
   "source": [
    "l = list(range(1,26))"
   ]
  },
  {
   "cell_type": "code",
   "execution_count": 2,
   "id": "8d473315",
   "metadata": {},
   "outputs": [],
   "source": [
    "def odd_num(x):\n",
    "    l1=[]\n",
    "    for i in x:\n",
    "        if i%2!=0:\n",
    "            l1.append(i)\n",
    "        else:\n",
    "            continue\n",
    "    return l1"
   ]
  },
  {
   "cell_type": "code",
   "execution_count": 3,
   "id": "88338bc1",
   "metadata": {},
   "outputs": [
    {
     "data": {
      "text/plain": [
       "[1, 3, 5, 7, 9, 11, 13, 15, 17, 19, 21, 23, 25]"
      ]
     },
     "execution_count": 3,
     "metadata": {},
     "output_type": "execute_result"
    }
   ],
   "source": [
    "odd_num(l)"
   ]
  },
  {
   "cell_type": "markdown",
   "id": "211462b1",
   "metadata": {},
   "source": [
    "## Q2. why *args and **kwargs is used...? "
   ]
  },
  {
   "cell_type": "markdown",
   "id": "5962d03e",
   "metadata": {},
   "source": [
    "### Ans. args is used when we have dynamic parameters in a function and it's a non keyword arguments, Whereas *****kwargs is quite similar in the terms of parameters and used when we have to pass a key value pair or dictionary to a function. it's known as a keyword arguments. Below are the example given to demonstrate the use of both args and *****kwargs"
   ]
  },
  {
   "cell_type": "markdown",
   "id": "0ddd8c65",
   "metadata": {},
   "source": [
    "### *Args "
   ]
  },
  {
   "cell_type": "code",
   "execution_count": 4,
   "id": "5746cc46",
   "metadata": {},
   "outputs": [],
   "source": [
    "def adder(*args):\n",
    "    sum=0\n",
    "    for i in args:\n",
    "        sum +=i\n",
    "    print(\"Sum is:\",sum)"
   ]
  },
  {
   "cell_type": "code",
   "execution_count": 5,
   "id": "0fbab20c",
   "metadata": {},
   "outputs": [
    {
     "name": "stdout",
     "output_type": "stream",
     "text": [
      "Sum is: 14\n"
     ]
    }
   ],
   "source": [
    "adder(2,3,4,5)"
   ]
  },
  {
   "cell_type": "code",
   "execution_count": 6,
   "id": "3399050b",
   "metadata": {},
   "outputs": [
    {
     "name": "stdout",
     "output_type": "stream",
     "text": [
      "Sum is: 744\n"
     ]
    }
   ],
   "source": [
    "adder(2,3,4,56,676,3)"
   ]
  },
  {
   "cell_type": "markdown",
   "id": "6d41e66b",
   "metadata": {},
   "source": [
    "### **kwargs "
   ]
  },
  {
   "cell_type": "code",
   "execution_count": 7,
   "id": "8c8e65d2",
   "metadata": {},
   "outputs": [],
   "source": [
    "def intro(**kwargs):\n",
    "    for key,value in kwargs.items():\n",
    "        print(f\"{key} is {value}\")\n",
    "    print(\"  \")"
   ]
  },
  {
   "cell_type": "code",
   "execution_count": 8,
   "id": "7b0de7c0",
   "metadata": {},
   "outputs": [
    {
     "name": "stdout",
     "output_type": "stream",
     "text": [
      "Firstname is Lwon\n",
      "Age is 43\n",
      "Email is abc@yahoo.in\n",
      "  \n",
      "Firstname is Stweve\n",
      "Age is 12\n",
      "Email is usa@yahoo.in\n",
      "  \n",
      "Firstname is ChatGPT\n",
      "Age is 21\n",
      "Email is Openai@yahoo.in\n",
      "  \n"
     ]
    }
   ],
   "source": [
    "intro(Firstname='Lwon',Age=43,Email='abc@yahoo.in')\n",
    "intro(Firstname='Stweve',Age=12,Email='usa@yahoo.in')\n",
    "intro(Firstname='ChatGPT',Age=21,Email='Openai@yahoo.in')"
   ]
  },
  {
   "cell_type": "markdown",
   "id": "400a5b8e",
   "metadata": {},
   "source": [
    "## Q3. What is an iterator in python..?"
   ]
  },
  {
   "cell_type": "markdown",
   "id": "54e988c0",
   "metadata": {},
   "source": [
    "#### Ans.  An iterator in python is an object upon which we can iterate. we can initialize the iterator object using iter() Method, and the next() to iterate over."
   ]
  },
  {
   "cell_type": "markdown",
   "id": "ef869924",
   "metadata": {},
   "source": [
    "#### The program is given below"
   ]
  },
  {
   "cell_type": "code",
   "execution_count": 9,
   "id": "fb485e82",
   "metadata": {},
   "outputs": [],
   "source": [
    "l = [2,4,5,8,10,12,14,16,18,20]"
   ]
  },
  {
   "cell_type": "code",
   "execution_count": 10,
   "id": "dd2dbfac",
   "metadata": {},
   "outputs": [],
   "source": [
    "l2 =iter(l)"
   ]
  },
  {
   "cell_type": "code",
   "execution_count": 11,
   "id": "7d32c82f",
   "metadata": {},
   "outputs": [
    {
     "data": {
      "text/plain": [
       "list_iterator"
      ]
     },
     "execution_count": 11,
     "metadata": {},
     "output_type": "execute_result"
    }
   ],
   "source": [
    "type(l2)"
   ]
  },
  {
   "cell_type": "code",
   "execution_count": 12,
   "id": "08a3f51a",
   "metadata": {},
   "outputs": [
    {
     "name": "stdout",
     "output_type": "stream",
     "text": [
      "2\n",
      "4\n",
      "5\n",
      "8\n",
      "10\n"
     ]
    }
   ],
   "source": [
    "n = 5\n",
    "while n >0:\n",
    "    print(next(l2))\n",
    "    n -=1"
   ]
  },
  {
   "cell_type": "markdown",
   "id": "10addf02",
   "metadata": {},
   "source": [
    "## Q4. what is a generator..?"
   ]
  },
  {
   "cell_type": "markdown",
   "id": "4fb0776e",
   "metadata": {},
   "source": [
    "### Ans. A generator function is a function that returns an iterator that produces a sequence of values when iterated over. Generator are very useful when we want to produce a large sequence of values, but we don't want to store all of them in memory at once.\n",
    "\n",
    "### Yield keyword is used to create a generator function. it is similar as return statement except that the function won't terminated in the case of yield () and it continues until the condition won't fullfilled"
   ]
  },
  {
   "cell_type": "code",
   "execution_count": 13,
   "id": "dda8d470",
   "metadata": {},
   "outputs": [],
   "source": [
    "def add(x):\n",
    "    for i in x:\n",
    "        yield i"
   ]
  },
  {
   "cell_type": "code",
   "execution_count": 14,
   "id": "5a239f74",
   "metadata": {},
   "outputs": [
    {
     "data": {
      "text/plain": [
       "[1, 2, 3, 4, 5, 6]"
      ]
     },
     "execution_count": 14,
     "metadata": {},
     "output_type": "execute_result"
    }
   ],
   "source": [
    "l =[1,2,3,4,5,6]\n",
    "list(add(l))"
   ]
  },
  {
   "cell_type": "markdown",
   "id": "49435fcd",
   "metadata": {},
   "source": [
    "## Q5. create a generator..?"
   ]
  },
  {
   "cell_type": "code",
   "execution_count": 15,
   "id": "7674f991",
   "metadata": {},
   "outputs": [],
   "source": [
    "def prime():\n",
    "    for i in range(1,1000):\n",
    "        if i%2!=0 and i%3!=0 and i%5!=0:\n",
    "            yield i\n",
    "        else:\n",
    "            continue\n",
    "    "
   ]
  },
  {
   "cell_type": "code",
   "execution_count": 16,
   "id": "a7e58cba",
   "metadata": {},
   "outputs": [],
   "source": [
    "l = prime()"
   ]
  },
  {
   "cell_type": "code",
   "execution_count": 17,
   "id": "96903577",
   "metadata": {},
   "outputs": [
    {
     "name": "stdout",
     "output_type": "stream",
     "text": [
      "1\n",
      "7\n",
      "11\n",
      "13\n",
      "17\n",
      "19\n",
      "23\n",
      "29\n",
      "31\n",
      "37\n",
      "41\n",
      "43\n",
      "47\n",
      "49\n",
      "53\n",
      "59\n",
      "61\n",
      "67\n",
      "71\n",
      "73\n"
     ]
    }
   ],
   "source": [
    "n=20\n",
    "while n>0:\n",
    "    print(next(l))\n",
    "    n = n-1"
   ]
  },
  {
   "cell_type": "markdown",
   "id": "91bd8238",
   "metadata": {},
   "source": [
    "## Q6. Program to print fibb..?"
   ]
  },
  {
   "cell_type": "markdown",
   "id": "405ebf9c",
   "metadata": {},
   "source": [
    "### Ans."
   ]
  },
  {
   "cell_type": "code",
   "execution_count": 18,
   "id": "f8647b79",
   "metadata": {},
   "outputs": [],
   "source": [
    "def fibb():\n",
    "    a,b=0,1\n",
    "    while True:\n",
    "        yield a\n",
    "        a,b=b,a+b"
   ]
  },
  {
   "cell_type": "code",
   "execution_count": 19,
   "id": "94d68967",
   "metadata": {},
   "outputs": [],
   "source": [
    "f = fibb()"
   ]
  },
  {
   "cell_type": "code",
   "execution_count": 20,
   "id": "40018e5a",
   "metadata": {},
   "outputs": [
    {
     "name": "stdout",
     "output_type": "stream",
     "text": [
      "0\n",
      "1\n",
      "1\n",
      "2\n",
      "3\n",
      "5\n",
      "8\n",
      "13\n",
      "21\n",
      "34\n"
     ]
    }
   ],
   "source": [
    "i=10\n",
    "while i>0:\n",
    "    print(next(f))\n",
    "    i = i-1"
   ]
  },
  {
   "cell_type": "markdown",
   "id": "9e1c010d",
   "metadata": {},
   "source": [
    "### Q7 Write a List Comprehension to iterate through the given string: ‘pwskills’.\n",
    "\n",
    "### Expected output: ['p', 'w', 's', 'k', 'i', 'l', 'l', 's']"
   ]
  },
  {
   "cell_type": "code",
   "execution_count": 21,
   "id": "316766a2",
   "metadata": {},
   "outputs": [],
   "source": [
    "l=\"pwskills\""
   ]
  },
  {
   "cell_type": "code",
   "execution_count": 22,
   "id": "7843f2d9",
   "metadata": {},
   "outputs": [
    {
     "data": {
      "text/plain": [
       "['p', 'w', 's', 'k', 'i', 'l', 'l', 's']"
      ]
     },
     "execution_count": 22,
     "metadata": {},
     "output_type": "execute_result"
    }
   ],
   "source": [
    "list([i for i in l])"
   ]
  },
  {
   "cell_type": "markdown",
   "id": "f9ca6ff3",
   "metadata": {},
   "source": [
    "### Q8. Write a python program to check whether a given number is Palindrome or not using a while loop."
   ]
  },
  {
   "cell_type": "code",
   "execution_count": 23,
   "id": "d0206e03",
   "metadata": {},
   "outputs": [
    {
     "name": "stdout",
     "output_type": "stream",
     "text": [
      "Enter a number: 12221\n",
      "Number is palindrome\n"
     ]
    }
   ],
   "source": [
    "n = int(input(\"Enter a number: \"))\n",
    "reverseNum=0\n",
    "tempOriginal = n\n",
    "while tempOriginal>0:\n",
    "    lastDigit = int(tempOriginal % 10)\n",
    "    reverseNum = reverseNum * 10 + lastDigit\n",
    "    tempOriginal = int(tempOriginal / 10)\n",
    "if n==reverseNum:\n",
    "    print(\"Number is palindrome\")\n",
    "else:\n",
    "    print(\"Not a Palindrome\")"
   ]
  },
  {
   "cell_type": "markdown",
   "id": "f86a9dda",
   "metadata": {},
   "source": [
    "## Q9. Write a code to print odd numbers from 1 to 100 using list comprehension."
   ]
  },
  {
   "cell_type": "code",
   "execution_count": 24,
   "id": "64c9f28f",
   "metadata": {},
   "outputs": [
    {
     "data": {
      "text/plain": [
       "[1,\n",
       " 3,\n",
       " 5,\n",
       " 7,\n",
       " 9,\n",
       " 11,\n",
       " 13,\n",
       " 15,\n",
       " 17,\n",
       " 19,\n",
       " 21,\n",
       " 23,\n",
       " 25,\n",
       " 27,\n",
       " 29,\n",
       " 31,\n",
       " 33,\n",
       " 35,\n",
       " 37,\n",
       " 39,\n",
       " 41,\n",
       " 43,\n",
       " 45,\n",
       " 47,\n",
       " 49,\n",
       " 51,\n",
       " 53,\n",
       " 55,\n",
       " 57,\n",
       " 59,\n",
       " 61,\n",
       " 63,\n",
       " 65,\n",
       " 67,\n",
       " 69,\n",
       " 71,\n",
       " 73,\n",
       " 75,\n",
       " 77,\n",
       " 79,\n",
       " 81,\n",
       " 83,\n",
       " 85,\n",
       " 87,\n",
       " 89,\n",
       " 91,\n",
       " 93,\n",
       " 95,\n",
       " 97,\n",
       " 99]"
      ]
     },
     "execution_count": 24,
     "metadata": {},
     "output_type": "execute_result"
    }
   ],
   "source": [
    "list([x for x in range(1,101) if x%2!=0])"
   ]
  },
  {
   "cell_type": "code",
   "execution_count": null,
   "id": "6533af4c",
   "metadata": {},
   "outputs": [],
   "source": []
  }
 ],
 "metadata": {
  "kernelspec": {
   "display_name": "Python 3 (ipykernel)",
   "language": "python",
   "name": "python3"
  },
  "language_info": {
   "codemirror_mode": {
    "name": "ipython",
    "version": 3
   },
   "file_extension": ".py",
   "mimetype": "text/x-python",
   "name": "python",
   "nbconvert_exporter": "python",
   "pygments_lexer": "ipython3",
   "version": "3.9.12"
  }
 },
 "nbformat": 4,
 "nbformat_minor": 5
}
