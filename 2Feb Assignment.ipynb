{
 "cells": [
  {
   "cell_type": "markdown",
   "id": "d5934ce9",
   "metadata": {},
   "source": [
    "### Q1 "
   ]
  },
  {
   "cell_type": "markdown",
   "id": "ceb85ec1",
   "metadata": {},
   "source": [
    "#### Ans. 1) we use for loop when we know the number of iteration has to be done. Where as when we don't have any information about the iterator then we use while loop \n",
    "#### 2) In for loop we don't check condition initially, but in while loop first of all condition will be checked if it is true only then it will be executed. The exemples are given below:"
   ]
  },
  {
   "cell_type": "markdown",
   "id": "57d45d0f",
   "metadata": {},
   "source": [
    "#### Using For loop find the sum of first 10 natural number..?"
   ]
  },
  {
   "cell_type": "code",
   "execution_count": 1,
   "id": "c615f664",
   "metadata": {},
   "outputs": [
    {
     "name": "stdout",
     "output_type": "stream",
     "text": [
      "The Sum is 55\n"
     ]
    }
   ],
   "source": [
    "sum=0\n",
    "for i in range(1,11):\n",
    "    sum+=i\n",
    "print(f\"The Sum is {sum}\")"
   ]
  },
  {
   "cell_type": "markdown",
   "id": "4942cada",
   "metadata": {},
   "source": [
    "#### Using while loop Find the sum of n natural number"
   ]
  },
  {
   "cell_type": "code",
   "execution_count": 2,
   "id": "8779b2f2",
   "metadata": {},
   "outputs": [
    {
     "name": "stdout",
     "output_type": "stream",
     "text": [
      "Enter the value of n: 5\n",
      "The Sum is 15\n"
     ]
    }
   ],
   "source": [
    "sm=0\n",
    "n = int(input(\"Enter the value of n: \"))\n",
    "while n!=0:\n",
    "    sm+=n\n",
    "    n-=1\n",
    "print(f\"The Sum is {sm}\")   "
   ]
  },
  {
   "cell_type": "markdown",
   "id": "399659ce",
   "metadata": {},
   "source": [
    "### Q2."
   ]
  },
  {
   "cell_type": "markdown",
   "id": "0bd6a4d8",
   "metadata": {},
   "source": [
    "### Using for loop"
   ]
  },
  {
   "cell_type": "code",
   "execution_count": 3,
   "id": "ad1df244",
   "metadata": {},
   "outputs": [
    {
     "name": "stdout",
     "output_type": "stream",
     "text": [
      "The sum of first 10 Number is 55\n",
      "The product of first 10 Number is 3628800\n"
     ]
    }
   ],
   "source": [
    "summ =0\n",
    "product=1\n",
    "for i in range(1,11):\n",
    "    summ +=i\n",
    "    product *=i\n",
    "print(f\"The sum of first 10 Number is {summ}\")\n",
    "print(f\"The product of first 10 Number is {product}\")"
   ]
  },
  {
   "cell_type": "markdown",
   "id": "48dd6269",
   "metadata": {},
   "source": [
    "### Using while loop"
   ]
  },
  {
   "cell_type": "code",
   "execution_count": 4,
   "id": "ca9404c5",
   "metadata": {},
   "outputs": [
    {
     "name": "stdout",
     "output_type": "stream",
     "text": [
      "The sum of first 10 Number using while loop is 55\n",
      "The product of first 10 Number using while loop is 3628800\n"
     ]
    }
   ],
   "source": [
    "n=1\n",
    "sm=0\n",
    "prd=1\n",
    "while n!=11:\n",
    "    sm +=n\n",
    "    prd *=n\n",
    "    n +=1\n",
    "print(f\"The sum of first 10 Number using while loop is {sm}\")\n",
    "print(f\"The product of first 10 Number using while loop is {prd}\")"
   ]
  },
  {
   "cell_type": "markdown",
   "id": "f00d9e64",
   "metadata": {},
   "source": [
    "### Q3 "
   ]
  },
  {
   "cell_type": "code",
   "execution_count": 5,
   "id": "c02cf744",
   "metadata": {},
   "outputs": [
    {
     "name": "stdout",
     "output_type": "stream",
     "text": [
      "Enter the consumption of units: 310\n",
      "Your Electricity bill is 2250 Rs.\n"
     ]
    }
   ],
   "source": [
    "units_consumed = int(input(\"Enter the consumption of units: \"))\n",
    "total =0\n",
    "def ab_300(un):\n",
    "    above = un-300\n",
    "    return (2050+(above*20))\n",
    "def ab_200(uc):\n",
    "    above = uc-200\n",
    "    return (1050+(above*10))\n",
    "def ab_100(uc):\n",
    "    above = uc-100\n",
    "    return (450+(above*6))\n",
    "\n",
    "\n",
    "def bl_100(uc):\n",
    "    return (uc*4.5)\n",
    "\n",
    "if units_consumed>=300:\n",
    "    total = ab_300(units_consumed)    \n",
    "elif units_consumed >=200 and units_consumed<300:\n",
    "    total = ab_200(units_consumed)\n",
    "elif units_consumed>=100 and units_consumed<200:\n",
    "    total = ab_100(units_consumed)\n",
    "elif units_consumed<100:\n",
    "    total = bl_100(units_consumed)\n",
    "else:\n",
    "    print(\"Please enter the correct output\")\n",
    "print(f\"Your Electricity bill is {total} Rs.\")"
   ]
  },
  {
   "cell_type": "markdown",
   "id": "c7aefb11",
   "metadata": {},
   "source": [
    "### Q4 "
   ]
  },
  {
   "cell_type": "markdown",
   "id": "06fa1120",
   "metadata": {},
   "source": [
    "### Using for loop"
   ]
  },
  {
   "cell_type": "code",
   "execution_count": 6,
   "id": "68faf9e6",
   "metadata": {},
   "outputs": [
    {
     "name": "stdout",
     "output_type": "stream",
     "text": [
      "[2, 4, 5, 6, 8, 10, 12, 14, 15, 16, 18, 20, 22, 24, 25, 26, 28, 30, 32, 34, 35, 36, 38, 40, 42, 44, 45, 46, 48, 50, 52, 54, 55, 56, 58, 60, 62, 64, 65, 66, 68, 70, 72, 74, 75, 76, 78, 80, 82, 84, 85, 86, 88, 90, 92, 94, 95, 96, 98, 100]\n"
     ]
    }
   ],
   "source": [
    "lst = list(range(1,101))\n",
    "cube = []\n",
    "for i in lst:\n",
    "    if (i**3)%4==0 or (i**3)%5==0:\n",
    "        cube.append(i)\n",
    "    else:\n",
    "        continue\n",
    "print(cube)"
   ]
  },
  {
   "cell_type": "markdown",
   "id": "d1670255",
   "metadata": {},
   "source": [
    "### Using while loop"
   ]
  },
  {
   "cell_type": "code",
   "execution_count": 7,
   "id": "49d3846f",
   "metadata": {},
   "outputs": [
    {
     "name": "stdout",
     "output_type": "stream",
     "text": [
      "[2, 4, 5, 6, 8, 10, 12, 14, 15, 16, 18, 20, 22, 24, 25, 26, 28, 30, 32, 34, 35, 36, 38, 40, 42, 44, 45, 46, 48, 50, 52, 54, 55, 56, 58, 60, 62, 64, 65, 66, 68, 70, 72, 74, 75, 76, 78, 80, 82, 84, 85, 86, 88, 90, 92, 94, 95, 96, 98, 100]\n"
     ]
    }
   ],
   "source": [
    "n = 1\n",
    "cbe =[]\n",
    "a=0\n",
    "while n!=101:\n",
    "    a=n**3\n",
    "    if a%4==0 or a%5==0:\n",
    "        cbe.append(n)\n",
    "    else:\n",
    "        pass\n",
    "    n +=1\n",
    "print(cbe)"
   ]
  },
  {
   "cell_type": "markdown",
   "id": "05fc872f",
   "metadata": {},
   "source": [
    "### Q5"
   ]
  },
  {
   "cell_type": "code",
   "execution_count": 8,
   "id": "3ff90fb2",
   "metadata": {},
   "outputs": [
    {
     "name": "stdout",
     "output_type": "stream",
     "text": [
      "There are 12 Vowels in the given string\n"
     ]
    }
   ],
   "source": [
    "st = \"I want to become a data scientist\"\n",
    "cnt =0\n",
    "for i in st.lower():\n",
    "    if i in ['a','e','i','o','u']:\n",
    "        cnt+=1\n",
    "    else:\n",
    "        pass\n",
    "print(f\"There are {cnt} Vowels in the given string\")"
   ]
  },
  {
   "cell_type": "code",
   "execution_count": null,
   "id": "3cb1071d",
   "metadata": {},
   "outputs": [],
   "source": []
  }
 ],
 "metadata": {
  "kernelspec": {
   "display_name": "Python 3 (ipykernel)",
   "language": "python",
   "name": "python3"
  },
  "language_info": {
   "codemirror_mode": {
    "name": "ipython",
    "version": 3
   },
   "file_extension": ".py",
   "mimetype": "text/x-python",
   "name": "python",
   "nbconvert_exporter": "python",
   "pygments_lexer": "ipython3",
   "version": "3.9.12"
  }
 },
 "nbformat": 4,
 "nbformat_minor": 5
}
