{
 "cells": [
  {
   "cell_type": "markdown",
   "id": "a87749c2",
   "metadata": {},
   "source": [
    "### Q1. What is Abstraction in OOps? Explain with an example."
   ]
  },
  {
   "cell_type": "markdown",
   "id": "fc571629",
   "metadata": {},
   "source": [
    "##### Ans) In Abstraction is used to hide the internal implementation and creates the skeleton of what is reqruired for that Entity. For exp we use the print() function without knowing the actual coding implementation, this type of hidden structure is known as Abstraction. The Coding example is given below: "
   ]
  },
  {
   "cell_type": "code",
   "execution_count": 1,
   "id": "d4bdd626",
   "metadata": {},
   "outputs": [],
   "source": [
    "class employee:\n",
    "    \n",
    "    def __init__(self, name,id):\n",
    "        self.name = name\n",
    "        self.eid = id\n",
    "    \n",
    "    def show_details(self):\n",
    "        print(f\"Employee details: Name {self.name} --> ID {self.eid}\")"
   ]
  },
  {
   "cell_type": "code",
   "execution_count": 2,
   "id": "b86678e0",
   "metadata": {},
   "outputs": [],
   "source": [
    "emp = employee(\"Harry\",232)"
   ]
  },
  {
   "cell_type": "code",
   "execution_count": 3,
   "id": "9e0159b0",
   "metadata": {},
   "outputs": [
    {
     "name": "stdout",
     "output_type": "stream",
     "text": [
      "Employee details: Name Harry --> ID 232\n"
     ]
    }
   ],
   "source": [
    "emp.show_details()"
   ]
  },
  {
   "cell_type": "markdown",
   "id": "901566ff",
   "metadata": {},
   "source": [
    "### Q2. Differentiate between Abstraction and Encapsulation. Explain with an example.\n"
   ]
  },
  {
   "cell_type": "markdown",
   "id": "4b6c95bb",
   "metadata": {},
   "source": [
    "#####  Abstraction hides the internal structure where as Encapsulation hides the data from external world or in other words it protects the data within the class, and exposes methods to the world"
   ]
  },
  {
   "cell_type": "markdown",
   "id": "7586e7b2",
   "metadata": {},
   "source": [
    "#####  Abstraction example"
   ]
  },
  {
   "cell_type": "code",
   "execution_count": 4,
   "id": "a7fc6084",
   "metadata": {},
   "outputs": [],
   "source": [
    "class student:\n",
    "    \n",
    "    def __init__(self,name,roll):\n",
    "        self.name = name\n",
    "        self.roll = roll\n",
    "        \n",
    "    def show(self):\n",
    "        print(f\"Name : {self.name}\")\n",
    "        print(f\" Roll Number : {self.roll}\")"
   ]
  },
  {
   "cell_type": "code",
   "execution_count": 5,
   "id": "a46450d0",
   "metadata": {},
   "outputs": [],
   "source": [
    "st = student(\"Adam\",32)"
   ]
  },
  {
   "cell_type": "code",
   "execution_count": 6,
   "id": "9e4366ed",
   "metadata": {},
   "outputs": [
    {
     "name": "stdout",
     "output_type": "stream",
     "text": [
      "Name : Adam\n",
      " Roll Number : 32\n"
     ]
    }
   ],
   "source": [
    "st.show()"
   ]
  },
  {
   "cell_type": "markdown",
   "id": "03dd8b21",
   "metadata": {},
   "source": [
    "#####  Encapsulation Example is given below"
   ]
  },
  {
   "cell_type": "code",
   "execution_count": 7,
   "id": "cab653f6",
   "metadata": {},
   "outputs": [],
   "source": [
    "class car:\n",
    "    \n",
    "    def __init__(self,make,model):\n",
    "        \n",
    "        self.__make = make\n",
    "        self.__model = model\n",
    "    \n",
    "    def show_details(self):\n",
    "        print(f\"Make of car is : {self.__make}, Model of car is : {self.__model}\")"
   ]
  },
  {
   "cell_type": "code",
   "execution_count": 8,
   "id": "ab9fa60c",
   "metadata": {},
   "outputs": [],
   "source": [
    "c = car(\"Honda\",2022)"
   ]
  },
  {
   "cell_type": "code",
   "execution_count": 9,
   "id": "fb8e7299",
   "metadata": {},
   "outputs": [
    {
     "name": "stdout",
     "output_type": "stream",
     "text": [
      "Make of car is : Honda, Model of car is : 2022\n"
     ]
    }
   ],
   "source": [
    "c.show_details()"
   ]
  },
  {
   "cell_type": "markdown",
   "id": "26fdf74f",
   "metadata": {},
   "source": [
    "###  Q3 What is abc module in python? Why is it used?\n",
    "\n"
   ]
  },
  {
   "cell_type": "markdown",
   "id": "e531f9a0",
   "metadata": {},
   "source": [
    "#####  ABC module stands for \"Abstract Base Class\". "
   ]
  },
  {
   "cell_type": "markdown",
   "id": "fd457afe",
   "metadata": {},
   "source": [
    "#####  A class is called an abstract class when it contains one or more abstract mehods. An abstract method is a method that is declared, but contains no implementation. Abstract classes may not be instantiated, and its abstract methods must be implemented by its subclasses. The class in which abstract methods declared is calles as ABC or Abstract Base Class"
   ]
  },
  {
   "cell_type": "markdown",
   "id": "2d5ba3ac",
   "metadata": {},
   "source": [
    "##### It is used to declare an class or method absract  using decorator \"@abc.abstractmethod\" for the purpose of inheritence, by which method's structure is used by other classes"
   ]
  },
  {
   "cell_type": "markdown",
   "id": "56c73b25",
   "metadata": {},
   "source": [
    "### Q4. How can we achieve data abstraction?"
   ]
  },
  {
   "cell_type": "markdown",
   "id": "fddd4c33",
   "metadata": {},
   "source": [
    "#####  We can achieve data abstraction by defining the basic structure of the class and then by using the abc module. The example is given below:"
   ]
  },
  {
   "cell_type": "code",
   "execution_count": 10,
   "id": "c1269fd5",
   "metadata": {},
   "outputs": [],
   "source": [
    "import abc\n",
    "class employee_data:\n",
    "    @abc.abstractmethod\n",
    "    def emp_details(self):\n",
    "        pass\n",
    "    @abc.abstractmethod\n",
    "    def emp_assignments(self):\n",
    "        pass"
   ]
  },
  {
   "cell_type": "code",
   "execution_count": 11,
   "id": "aac2b3ac",
   "metadata": {},
   "outputs": [],
   "source": [
    "class google(employee_data):\n",
    "    \n",
    "    def emp_details(self):\n",
    "        return \"this will return the details of google employees\"\n",
    "    \n",
    "    def emp_assignments(self):\n",
    "        return \"This will return the details of assignment done by google employees\"\n"
   ]
  },
  {
   "cell_type": "code",
   "execution_count": 12,
   "id": "fe162239",
   "metadata": {},
   "outputs": [],
   "source": [
    "class microsoft(employee_data):\n",
    "    \n",
    "    def emp_details(self):\n",
    "        return \"this will return the details of microsoft employees\"\n",
    "    \n",
    "    def emp_assignments(self):\n",
    "        return \"This will return the details of assignment done by microsoft employees\""
   ]
  },
  {
   "cell_type": "code",
   "execution_count": 13,
   "id": "e38af5d3",
   "metadata": {},
   "outputs": [
    {
     "data": {
      "text/plain": [
       "'This will return the details of assignment done by google employees'"
      ]
     },
     "execution_count": 13,
     "metadata": {},
     "output_type": "execute_result"
    }
   ],
   "source": [
    "g = google()\n",
    "g.emp_assignments()\n"
   ]
  },
  {
   "cell_type": "code",
   "execution_count": 14,
   "id": "6e29eba8",
   "metadata": {},
   "outputs": [
    {
     "data": {
      "text/plain": [
       "'this will return the details of google employees'"
      ]
     },
     "execution_count": 14,
     "metadata": {},
     "output_type": "execute_result"
    }
   ],
   "source": [
    "g.emp_details()"
   ]
  },
  {
   "cell_type": "code",
   "execution_count": 15,
   "id": "6e1d66cb",
   "metadata": {},
   "outputs": [],
   "source": [
    "m= microsoft()"
   ]
  },
  {
   "cell_type": "code",
   "execution_count": 16,
   "id": "d9bba0de",
   "metadata": {},
   "outputs": [
    {
     "data": {
      "text/plain": [
       "'This will return the details of assignment done by microsoft employees'"
      ]
     },
     "execution_count": 16,
     "metadata": {},
     "output_type": "execute_result"
    }
   ],
   "source": [
    "m.emp_assignments()"
   ]
  },
  {
   "cell_type": "code",
   "execution_count": 17,
   "id": "8ec4f44f",
   "metadata": {},
   "outputs": [
    {
     "data": {
      "text/plain": [
       "'this will return the details of microsoft employees'"
      ]
     },
     "execution_count": 17,
     "metadata": {},
     "output_type": "execute_result"
    }
   ],
   "source": [
    "m.emp_details()"
   ]
  },
  {
   "cell_type": "markdown",
   "id": "78eb6f9a",
   "metadata": {},
   "source": [
    "### Q5. Can we create an instance of an abstract class? Explain your answer."
   ]
  },
  {
   "cell_type": "markdown",
   "id": "287b9565",
   "metadata": {},
   "source": [
    "#####  Ans. Abstract classes are used to create a blueprint of our classes as they don't contain the method implementation.Abstract classes are not complete, as they may have some methods that are not defined. So we cannot create an instance or object of an abstract class in Python. Below is the example"
   ]
  },
  {
   "cell_type": "code",
   "execution_count": 18,
   "id": "13cb0dc4",
   "metadata": {},
   "outputs": [],
   "source": [
    "from abc import ABC\n",
    "class student_data(ABC):\n",
    "    @abc.abstractmethod\n",
    "    def student_details(self):\n",
    "        pass\n",
    "    @abc.abstractmethod\n",
    "    def student_assignments(self):\n",
    "        pass"
   ]
  },
  {
   "cell_type": "code",
   "execution_count": 19,
   "id": "fd7c83d9",
   "metadata": {},
   "outputs": [
    {
     "ename": "TypeError",
     "evalue": "Can't instantiate abstract class student_data with abstract methods student_assignments, student_details",
     "output_type": "error",
     "traceback": [
      "\u001b[1;31m---------------------------------------------------------------------------\u001b[0m",
      "\u001b[1;31mTypeError\u001b[0m                                 Traceback (most recent call last)",
      "Input \u001b[1;32mIn [19]\u001b[0m, in \u001b[0;36m<cell line: 1>\u001b[1;34m()\u001b[0m\n\u001b[1;32m----> 1\u001b[0m st \u001b[38;5;241m=\u001b[39m \u001b[43mstudent_data\u001b[49m\u001b[43m(\u001b[49m\u001b[43m)\u001b[49m\n",
      "\u001b[1;31mTypeError\u001b[0m: Can't instantiate abstract class student_data with abstract methods student_assignments, student_details"
     ]
    }
   ],
   "source": [
    "st = student_data()"
   ]
  },
  {
   "cell_type": "code",
   "execution_count": null,
   "id": "b48d246b",
   "metadata": {},
   "outputs": [],
   "source": []
  }
 ],
 "metadata": {
  "kernelspec": {
   "display_name": "Python 3 (ipykernel)",
   "language": "python",
   "name": "python3"
  },
  "language_info": {
   "codemirror_mode": {
    "name": "ipython",
    "version": 3
   },
   "file_extension": ".py",
   "mimetype": "text/x-python",
   "name": "python",
   "nbconvert_exporter": "python",
   "pygments_lexer": "ipython3",
   "version": "3.9.12"
  }
 },
 "nbformat": 4,
 "nbformat_minor": 5
}
