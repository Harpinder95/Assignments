{
 "cells": [
  {
   "cell_type": "markdown",
   "id": "9bad8463",
   "metadata": {},
   "source": [
    "### Which function is used to open a file? What are the different modes of opening a file? Explain each mode of file opening."
   ]
  },
  {
   "cell_type": "markdown",
   "id": "ba2721f4",
   "metadata": {},
   "source": [
    "####  Open function is used to open a file. There are several modes we can use to open a file for exp: \n",
    "#### 'r'       open for reading (default)\n",
    "#### 'w'       open for writing, truncating the file first\n",
    "#### 'x'       create a new file and open it for writing\n",
    "#### 'a'       open for writing, appending to the end of the file if it exists\n",
    "#### 'b'       binary mode\n",
    "#### 't'       text mode (default)\n",
    "#### '+'       open a disk file for updating (reading and writing)\n",
    "#### 'U'       universal newline mode (deprecated). Below are the example which describes it best\n",
    "#### Below is the example given to describe the use of some modes"
   ]
  },
  {
   "cell_type": "code",
   "execution_count": 1,
   "id": "ac90561e",
   "metadata": {},
   "outputs": [],
   "source": [
    "f = open('new.txt','w')  # file open in write mode\n",
    "f.write(\"This is my new file\")\n",
    "f.close()"
   ]
  },
  {
   "cell_type": "code",
   "execution_count": 2,
   "id": "2366200f",
   "metadata": {},
   "outputs": [
    {
     "data": {
      "text/plain": [
       "'This is my new file'"
      ]
     },
     "execution_count": 2,
     "metadata": {},
     "output_type": "execute_result"
    }
   ],
   "source": [
    "f = open('new.txt','r') #file open in read mode\n",
    "f.read()"
   ]
  },
  {
   "cell_type": "code",
   "execution_count": 3,
   "id": "624a7d17",
   "metadata": {},
   "outputs": [],
   "source": [
    "f.close()"
   ]
  },
  {
   "cell_type": "code",
   "execution_count": 4,
   "id": "c6a7b16f",
   "metadata": {},
   "outputs": [],
   "source": [
    "f = open('new.txt','a') #file opened in append mode\n",
    "f.write(\" This is the next  line\")\n",
    "f.close()"
   ]
  },
  {
   "cell_type": "code",
   "execution_count": 5,
   "id": "66405bd8",
   "metadata": {},
   "outputs": [
    {
     "data": {
      "text/plain": [
       "'This is my new file This is the next  line'"
      ]
     },
     "execution_count": 5,
     "metadata": {},
     "output_type": "execute_result"
    }
   ],
   "source": [
    "f = open('new.txt','r')\n",
    "f.read()"
   ]
  },
  {
   "cell_type": "code",
   "execution_count": 6,
   "id": "c765a2c0",
   "metadata": {},
   "outputs": [],
   "source": [
    "f.close()"
   ]
  },
  {
   "cell_type": "markdown",
   "id": "9d2b817f",
   "metadata": {},
   "source": [
    "### Q2.  Why close() function is used? Why is it important to close a file?"
   ]
  },
  {
   "cell_type": "markdown",
   "id": "ef348113",
   "metadata": {},
   "source": [
    "####  Close() function is used to closed a file which is opened by using open( ) to protect the data as, the file may get corrupted if the computer or program crashes as well as if we don’t call the close() function, the file will remain open, and its object will be consuming the memory of our process. Also, there might be chances that data will not entirely be flushed to the file. The example is given below:"
   ]
  },
  {
   "cell_type": "code",
   "execution_count": 7,
   "id": "2c242bcb",
   "metadata": {},
   "outputs": [],
   "source": [
    "file = open('new.txt','r')"
   ]
  },
  {
   "cell_type": "code",
   "execution_count": 8,
   "id": "3221b860",
   "metadata": {},
   "outputs": [
    {
     "data": {
      "text/plain": [
       "'This is my new file This is the next  line'"
      ]
     },
     "execution_count": 8,
     "metadata": {},
     "output_type": "execute_result"
    }
   ],
   "source": [
    "file.read()"
   ]
  },
  {
   "cell_type": "code",
   "execution_count": 9,
   "id": "5c77c962",
   "metadata": {},
   "outputs": [],
   "source": [
    "file.close()"
   ]
  },
  {
   "cell_type": "markdown",
   "id": "a06411a9",
   "metadata": {},
   "source": [
    "### Q3. Write a python program to create a text file. Write ‘I want to become a Data Scientist’ in that file. Then close the file. Open this file and read the content of the file."
   ]
  },
  {
   "cell_type": "code",
   "execution_count": 10,
   "id": "de8e7937",
   "metadata": {},
   "outputs": [],
   "source": [
    "with open('data.txt','w') as f:\n",
    "    f.write(\" I want to become a Data Scientist\")"
   ]
  },
  {
   "cell_type": "code",
   "execution_count": 11,
   "id": "a6d686f1",
   "metadata": {},
   "outputs": [
    {
     "data": {
      "text/plain": [
       "' I want to become a Data Scientist'"
      ]
     },
     "execution_count": 11,
     "metadata": {},
     "output_type": "execute_result"
    }
   ],
   "source": [
    "file = open('data.txt','r')\n",
    "file.read()"
   ]
  },
  {
   "cell_type": "code",
   "execution_count": 12,
   "id": "ce0e42c9",
   "metadata": {},
   "outputs": [],
   "source": [
    "file.close()"
   ]
  },
  {
   "cell_type": "markdown",
   "id": "6cb0e2b2",
   "metadata": {},
   "source": [
    "###  Q4. Explain the following with python code: read(), readline() and readlines()."
   ]
  },
  {
   "cell_type": "markdown",
   "id": "1687c174",
   "metadata": {},
   "source": [
    "####  read(): This method is used to read the n number of data from the opened file. "
   ]
  },
  {
   "cell_type": "code",
   "execution_count": 13,
   "id": "550a3213",
   "metadata": {},
   "outputs": [
    {
     "data": {
      "text/plain": [
       "' I want to become a Data Scientist'"
      ]
     },
     "execution_count": 13,
     "metadata": {},
     "output_type": "execute_result"
    }
   ],
   "source": [
    "file = open('data.txt','r')\n",
    "file.read()"
   ]
  },
  {
   "cell_type": "code",
   "execution_count": 14,
   "id": "b74731f6",
   "metadata": {},
   "outputs": [
    {
     "data": {
      "text/plain": [
       "0"
      ]
     },
     "execution_count": 14,
     "metadata": {},
     "output_type": "execute_result"
    }
   ],
   "source": [
    "file.seek(0)"
   ]
  },
  {
   "cell_type": "code",
   "execution_count": 15,
   "id": "cd4d6ad3",
   "metadata": {},
   "outputs": [
    {
     "data": {
      "text/plain": [
       "' I want '"
      ]
     },
     "execution_count": 15,
     "metadata": {},
     "output_type": "execute_result"
    }
   ],
   "source": [
    "file.read(8)\n"
   ]
  },
  {
   "cell_type": "code",
   "execution_count": 16,
   "id": "9f52c121",
   "metadata": {},
   "outputs": [],
   "source": [
    "f.close()"
   ]
  },
  {
   "cell_type": "markdown",
   "id": "7d11305e",
   "metadata": {},
   "source": [
    "####  readline() : this method is used to returns the next line of the file with all text up to and including the newline character."
   ]
  },
  {
   "cell_type": "code",
   "execution_count": 17,
   "id": "c887000b",
   "metadata": {},
   "outputs": [],
   "source": [
    "data = \"parties before entering the northeast must understand that water will flow into the ocean \\n Prime Minister is the tallest leader, everyone favours him\""
   ]
  },
  {
   "cell_type": "code",
   "execution_count": 18,
   "id": "2818c3f7",
   "metadata": {},
   "outputs": [],
   "source": [
    "f = open('news.txt','w')\n",
    "f.write(data)\n",
    "f.close()"
   ]
  },
  {
   "cell_type": "code",
   "execution_count": 19,
   "id": "0102b7bb",
   "metadata": {},
   "outputs": [
    {
     "data": {
      "text/plain": [
       "'parties before entering the northeast must understand that water will flow into the ocean \\n'"
      ]
     },
     "execution_count": 19,
     "metadata": {},
     "output_type": "execute_result"
    }
   ],
   "source": [
    "f = open('news.txt','r')\n",
    "f.readline()"
   ]
  },
  {
   "cell_type": "code",
   "execution_count": 20,
   "id": "ad70c23e",
   "metadata": {},
   "outputs": [],
   "source": [
    "f.close()"
   ]
  },
  {
   "cell_type": "markdown",
   "id": "1c90c20f",
   "metadata": {},
   "source": [
    "####  readlines() : Returns a list of strings, each representing a single line of the file. If n is not provided then all lines of the file are returned. If n is provided then n characters are read but n is rounded up so that an entire line is returned."
   ]
  },
  {
   "cell_type": "code",
   "execution_count": 21,
   "id": "fc1e8559",
   "metadata": {},
   "outputs": [
    {
     "data": {
      "text/plain": [
       "['parties before entering the northeast must understand that water will flow into the ocean \\n',\n",
       " ' Prime Minister is the tallest leader, everyone favours him']"
      ]
     },
     "execution_count": 21,
     "metadata": {},
     "output_type": "execute_result"
    }
   ],
   "source": [
    "f = open('news.txt','r')\n",
    "f.readlines()"
   ]
  },
  {
   "cell_type": "code",
   "execution_count": 22,
   "id": "4dc04e57",
   "metadata": {},
   "outputs": [],
   "source": [
    "f.close()"
   ]
  },
  {
   "cell_type": "markdown",
   "id": "ed1dea3e",
   "metadata": {},
   "source": [
    "### Q4. Explain why with statement is used with open(). What is the advantage of using with statement and open() together?"
   ]
  },
  {
   "cell_type": "markdown",
   "id": "59d76aa8",
   "metadata": {},
   "source": [
    "####  With statement is created an execution block which means everything written in the with block will be destroyed or closed when this block ends. we don't need to use the close() method to close the opened file as it is simply handled by the with block"
   ]
  },
  {
   "cell_type": "code",
   "execution_count": 23,
   "id": "f8a75c05",
   "metadata": {},
   "outputs": [
    {
     "name": "stdout",
     "output_type": "stream",
     "text": [
      "parties before entering the northeast must understand that water will flow into the ocean \n",
      " Prime Minister is the tallest leader, everyone favours him\n"
     ]
    }
   ],
   "source": [
    "with open('news.txt','r') as f:\n",
    "    print(f.read())"
   ]
  },
  {
   "cell_type": "markdown",
   "id": "069407b0",
   "metadata": {},
   "source": [
    "### Q5 .Explain the write() and writelines() functions. Give a suitable example."
   ]
  },
  {
   "cell_type": "markdown",
   "id": "cce25193",
   "metadata": {},
   "source": [
    "####  Write( ) : when the string that is passed to the write() function is written into the opened file. The string may include numbers, special characters, or symbols. While writing data to a file, the write function does not add a newline character(\\n) to the end of the string and the write() function returns None. write() is used to write a string to an already opened file "
   ]
  },
  {
   "cell_type": "code",
   "execution_count": 24,
   "id": "dc06db50",
   "metadata": {},
   "outputs": [
    {
     "name": "stdout",
     "output_type": "stream",
     "text": [
      "Enter the name of employee: harry\n",
      "Enter the name of employee: lisa\n",
      "Enter the name of employee: monts\n"
     ]
    }
   ],
   "source": [
    "with open('emp_data.txt','w') as f:\n",
    "    for i in range(3):\n",
    "        name = input(\"Enter the name of employee: \")\n",
    "        f.write(name)\n",
    "        f.write('\\n')\n",
    "        "
   ]
  },
  {
   "cell_type": "markdown",
   "id": "15370681",
   "metadata": {},
   "source": [
    "####  writelines() method is used to write a list of strings in an opened file.writelines() function is written into the opened file. Similar to the write() function, the writelines() function does not add a newline character(\\n) to the end of the string."
   ]
  },
  {
   "cell_type": "code",
   "execution_count": 27,
   "id": "54f62446",
   "metadata": {},
   "outputs": [
    {
     "name": "stdout",
     "output_type": "stream",
     "text": [
      "Enter the name of Employee :mathew\n",
      "Enter the name of Employee :mark\n"
     ]
    }
   ],
   "source": [
    "with open('emp_data.txt','w') as f:\n",
    "    for i in range(2):\n",
    "        name = input(\"Enter the name of Employee :\")\n",
    "        f.writelines(name)\n",
    "        f.writelines('\\n')"
   ]
  },
  {
   "cell_type": "code",
   "execution_count": 28,
   "id": "6cdfa127",
   "metadata": {},
   "outputs": [
    {
     "name": "stdout",
     "output_type": "stream",
     "text": [
      "['mathew\\n', 'mark\\n']\n"
     ]
    }
   ],
   "source": [
    "with open('emp_data.txt','r') as f:\n",
    "    print(f.readlines())"
   ]
  },
  {
   "cell_type": "code",
   "execution_count": null,
   "id": "65248bd6",
   "metadata": {},
   "outputs": [],
   "source": []
  }
 ],
 "metadata": {
  "kernelspec": {
   "display_name": "Python 3 (ipykernel)",
   "language": "python",
   "name": "python3"
  },
  "language_info": {
   "codemirror_mode": {
    "name": "ipython",
    "version": 3
   },
   "file_extension": ".py",
   "mimetype": "text/x-python",
   "name": "python",
   "nbconvert_exporter": "python",
   "pygments_lexer": "ipython3",
   "version": "3.9.12"
  }
 },
 "nbformat": 4,
 "nbformat_minor": 5
}
