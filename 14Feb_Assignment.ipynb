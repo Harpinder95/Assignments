{
 "cells": [
  {
   "cell_type": "markdown",
   "id": "ce7bdfc2",
   "metadata": {},
   "source": [
    "### Q1. what is multithreading in python? why is it used? Name the module used to handle threads in python"
   ]
  },
  {
   "cell_type": "markdown",
   "id": "69ac537c",
   "metadata": {},
   "source": [
    "#### Multithreading : In multithreading a process is breaked into small threads and then run multiple threads concurrently by rapidly switching between threads with a CPU. \n",
    "#### Threading module is used to handle threads in python . Example is given below"
   ]
  },
  {
   "cell_type": "code",
   "execution_count": 1,
   "id": "2697f0c5",
   "metadata": {},
   "outputs": [
    {
     "name": "stdout",
     "output_type": "stream",
     "text": [
      "Counting starts at 0\n",
      "Counting starts at 1\n",
      "Counting starts at 2\n",
      "Counting starts at 3\n",
      "Counting starts at 4\n",
      "Counting starts at 5\n",
      "Counting starts at 6\n",
      "Counting starts at 7\n",
      "Counting starts at 8\n",
      "Counting starts at 9\n"
     ]
    }
   ],
   "source": [
    "import threading\n",
    "def test(id):\n",
    "    print(\"Counting starts at %d\"% id)\n",
    "thread = [threading.Thread(target = test, args=(i,))for i in range(10)]\n",
    "for t in thread:\n",
    "    t.start()"
   ]
  },
  {
   "cell_type": "markdown",
   "id": "0867bdbb",
   "metadata": {},
   "source": [
    "### Q2 why threading module used? write the use of the following functions:\n",
    "### activeCount()\n",
    "### currentThread()\n",
    "### enumerate()"
   ]
  },
  {
   "cell_type": "markdown",
   "id": "7980359e",
   "metadata": {},
   "source": [
    "#### Threading module is used to utilising the functionality of multithreading or to create a multi-threaded application.\n",
    "#### ActiveCount() - This method is used to count the currently active or running threads."
   ]
  },
  {
   "cell_type": "code",
   "execution_count": 2,
   "id": "53e9ac20",
   "metadata": {},
   "outputs": [
    {
     "name": "stdout",
     "output_type": "stream",
     "text": [
      "START: Current active thread count:  6\n",
      "Thread-2: Number of active threads: 8\n",
      "Thread 2 Value: 200\n",
      "Thread-1: Number of active threads: 8\n",
      "Thread 1 Value: 100\n",
      "Thread-3: Number of active threads: 7\n",
      "Thread 3 Value: 300\n"
     ]
    }
   ],
   "source": [
    "import threading\n",
    "import time\n",
    "def thread1_Subroutine(i):\n",
    "    time.sleep(2)\n",
    "    print(\"Thread-1: Number of active threads:\", threading.active_count())\n",
    "    print('Thread 1 Value:', i)\n",
    "\n",
    "def thread2_Subroutine(i):\n",
    "    print(\"Thread-2: Number of active threads:\", threading.active_count())\n",
    "    print('Thread 2 Value:', i)\n",
    "    \n",
    "def thread3_Subroutine(i):\n",
    "    time.sleep(5)\n",
    "    print(\"Thread-3: Number of active threads:\", threading.active_count())\n",
    "    print(\"Thread 3 Value:\", i)\n",
    "    \n",
    "\n",
    "thread1 = threading.Thread(target=thread1_Subroutine, args=(100,), name=\"Thread1\")\n",
    "thread2 = threading.Thread(target=thread2_Subroutine, args=(200,), name=\"Thread2\")\n",
    "thread3 = threading.Thread(target=thread3_Subroutine, args=(300,), name=\"Thread3\")\n",
    "print(\"START: Current active thread count: \", threading.active_count())\n",
    "\n",
    "thread1.start()\n",
    "thread2.start()\n",
    "thread3.start()\n",
    "thread3.join()"
   ]
  },
  {
   "cell_type": "markdown",
   "id": "a4e3d1b0",
   "metadata": {},
   "source": [
    "####  currentThread(): it is an inbuilt method of the threading module in Python. It is used to return the current Thread object, which corresponds to the caller's thread of control."
   ]
  },
  {
   "cell_type": "code",
   "execution_count": 3,
   "id": "545fd027",
   "metadata": {},
   "outputs": [
    {
     "name": "stdout",
     "output_type": "stream",
     "text": [
      "Active current thread right now: <_MainThread(MainThread, started 3192)>\n",
      "Active current thread right now: <Thread(Thread-17, started 14620)>\n",
      "Value by Thread 3: 3\n"
     ]
    }
   ],
   "source": [
    "import time\n",
    "import threading\n",
    "\n",
    "def thread_1(i):\n",
    "    time.sleep(2)\n",
    "    print(\"Active current thread right now:\", (threading.current_thread()))\n",
    "    print('Value by Thread 1:', i)\n",
    "\n",
    "def thread_2(i):\n",
    "    time.sleep(5)\n",
    "    print(\"Active current thread right now:\", (threading.current_thread()))\n",
    "    print('Value by Thread 2:', i)\n",
    "    \n",
    "def thread_3(i):\n",
    "    print(\"Active current thread right now:\", (threading.current_thread()))\n",
    "    print(\"Value by Thread 3:\", i)\n",
    "    \n",
    "\n",
    "thread1 = threading.Thread(target=thread_1, args=(1,))\n",
    "thread2 = threading.Thread(target=thread_2, args=(2,))\n",
    "thread3 = threading.Thread(target=thread_3, args=(3,))\n",
    "\n",
    "print(\"Active current thread right now:\", (threading.current_thread()))\n",
    "thread1.start()\n",
    "thread2.start()\n",
    "thread3.start()"
   ]
  },
  {
   "cell_type": "markdown",
   "id": "5e3789bb",
   "metadata": {},
   "source": [
    "#### enumerate() is an inbuilt method of the threading module in Python. It is used to return the list of all the Thread class objects which are currently alive. It also includes daemonic threads, the main thread, and dummy thread objects created by current_thread(). It does not count the threads that have terminated or which have not started yet."
   ]
  },
  {
   "cell_type": "markdown",
   "id": "ac9bcfd1",
   "metadata": {},
   "source": [
    "### Q3. Explain the following functions:\n",
    "### 1. run()\n",
    "### 2. start()\n",
    "### 3. join()\n",
    "### 4. isAlive()"
   ]
  },
  {
   "cell_type": "markdown",
   "id": "4aabdfff",
   "metadata": {},
   "source": [
    "#### Run(): Thread.run() method is an inbuilt method of the Thread class of the threading module in Python. This method is used to represent a thread's activity. It calls the method expressed as the target argument in the Thread object along with the positional and keyword arguments taken from the args and kwargs arguments, respectively."
   ]
  },
  {
   "cell_type": "code",
   "execution_count": 4,
   "id": "2c0bc5f9",
   "metadata": {},
   "outputs": [
    {
     "name": "stdout",
     "output_type": "stream",
     "text": [
      "Value by Thread 1: 1\n",
      "Value by Thread 2: 2\n",
      "Value by Thread 3: 3\n"
     ]
    }
   ],
   "source": [
    "import threading\n",
    "\n",
    "def thread_1(i):\n",
    "    print('Value by Thread 1:', i)\n",
    "\n",
    "def thread_2(i):\n",
    "    print('Value by Thread 2:', i)\n",
    "\n",
    "def thread_3(i):\n",
    "    print('Value by Thread 3:', i)    \n",
    "\n",
    "    \n",
    "# Creating three sample threads \n",
    "thread1 = threading.Thread(target=thread_1, args=(1,))\n",
    "thread2 = threading.Thread(target=thread_2, args=(2,))\n",
    "thread3 = threading.Thread(target=thread_3, args=(3,))\n",
    "\n",
    "# Running three thread object\n",
    "thread1.run()\n",
    "thread2.run()\n",
    "thread3.run()"
   ]
  },
  {
   "cell_type": "markdown",
   "id": "9fd693d6",
   "metadata": {},
   "source": [
    "#### start() : This function is used to start the execution of thread by invokes the target function with the given argument."
   ]
  },
  {
   "cell_type": "markdown",
   "id": "4d734a1e",
   "metadata": {},
   "source": [
    "#### join() : The join() method is used to wait for a thread to complete its execution before continuing with the rest of the program. It blocks the calling thread until the target thread terminates, either by completing its work or by being terminated prematurely."
   ]
  },
  {
   "cell_type": "markdown",
   "id": "f4631816",
   "metadata": {},
   "source": [
    "####  is_alive() is a method in the Python threading module that can be used to check if a thread is currently running or not. The method returns True if the thread is still running, and False if it has completed its execution or has not yet started"
   ]
  },
  {
   "cell_type": "code",
   "execution_count": 5,
   "id": "a5dae135",
   "metadata": {},
   "outputs": [
    {
     "name": "stdout",
     "output_type": "stream",
     "text": [
      "Starting my_functionThread is still running...\n",
      "\n",
      "Thread is still running...\n",
      "Active current thread right now: <Thread(Thread-15, started 15084)>\n",
      "Value by Thread 1: 1\n",
      "Thread is still running...\n",
      "Thread is still running...\n",
      "Thread is still running...\n",
      "Active current thread right now: <Thread(Thread-16, started 6900)>\n",
      "Value by Thread 2: 2\n",
      "Ending my_function\n",
      "Thread has completed its execution\n"
     ]
    }
   ],
   "source": [
    "import threading\n",
    "import time\n",
    "\n",
    "def my_function():\n",
    "    print(\"Starting my_function\")\n",
    "    time.sleep(5)\n",
    "    print(\"Ending my_function\")\n",
    "\n",
    "t = threading.Thread(target=my_function)\n",
    "t.start()\n",
    "\n",
    "while t.is_alive():\n",
    "    print(\"Thread is still running...\")\n",
    "    time.sleep(1)\n",
    "\n",
    "print(\"Thread has completed its execution\")\n"
   ]
  },
  {
   "cell_type": "markdown",
   "id": "7eea50db",
   "metadata": {},
   "source": [
    "### Q4. write a python program to create two threads. Thread one must print the list of squares and thread two must print the list of cubes"
   ]
  },
  {
   "cell_type": "code",
   "execution_count": 6,
   "id": "575c937d",
   "metadata": {},
   "outputs": [
    {
     "name": "stdout",
     "output_type": "stream",
     "text": [
      "[1, 4, 9, 16, 25, 36, 49, 64, 81]\n",
      "[1, 2, 3, 4, 5, 6, 7, 8, 9]\n"
     ]
    }
   ],
   "source": [
    "import threading\n",
    "lst_sq = []\n",
    "lst_cub =[]\n",
    "i = [1,2,3,4,5,6,7,8,9]\n",
    "def squares(sq_lst):\n",
    "    for i in sq_lst:\n",
    "        lst_sq.append(i**2)\n",
    "    print(lst_sq)\n",
    "def cubes(cb_lst):\n",
    "    for i in cb_lst:\n",
    "        lst_cub.append(i**3)\n",
    "    print(cb_lst)\n",
    "thread1 = threading.Thread(target = squares, args=(i,))\n",
    "thread2 = threading.Thread(target = cubes, args=(i,))\n",
    "thread1.start()\n",
    "thread2.start()\n",
    "thread1.join()\n",
    "thread2.join()"
   ]
  },
  {
   "cell_type": "markdown",
   "id": "24b295a6",
   "metadata": {},
   "source": [
    "###  Q5. State advantages and Disadvantages in multithreading."
   ]
  },
  {
   "cell_type": "markdown",
   "id": "6c5c2bae",
   "metadata": {},
   "source": [
    "####  Advantages: \n",
    "#### Increased Efficiency: Multithreading allows programs to execute multiple tasks simultaneously, thereby improving the overall performance and efficiency of the program. This is particularly useful for programs that perform multiple I/O operations or complex computations.\n",
    "\n",
    "#### Improved Responsiveness: Multithreading allows for better responsiveness of the user interface by ensuring that long-running operations do not block the user interface. This means that users can continue to interact with the application while background tasks are running.\n",
    "\n",
    "#### Resource Sharing: Multithreading allows threads to share resources such as memory, files, and network connections, which can reduce the overall resource consumption and improve the scalability of the application.\n",
    "\n",
    "#### Simplified Design: Multithreading can simplify the design of certain applications, such as servers or event-driven applications, by allowing for better separation of concerns and more modular code.\n",
    "\n",
    "#### Disadvantages:\n",
    "\n",
    "#### Increased Complexity: Multithreaded programs can be more complex to design, debug, and maintain than single-threaded programs. This is because the interactions between threads can be difficult to predict and manage.\n",
    "\n",
    "#### Synchronization Issues: Multithreading can introduce synchronization issues, such as race conditions or deadlocks, where multiple threads are waiting for each other to complete, which can cause the program to become unresponsive or crash.\n",
    "\n",
    "#### Increased Resource Consumption: Multithreading can consume more system resources, such as memory and CPU time, than single-threaded programs due to the overhead associated with creating and managing threads.\n",
    "\n",
    "#### Difficulty of Debugging: Debugging multithreaded programs can be difficult, as issues may not be reproducible and may depend on timing and other factors that are difficult to control.\n",
    "\n",
    "#### In conclusion, multithreading can provide significant benefits in terms of efficiency, responsiveness, resource sharing, and simplified design, but it also introduces complexity, synchronization issues, increased resource consumption, and debugging challenges that must be carefully considered when designing multithreaded applications.\n",
    "\n",
    "\n",
    "\n",
    "\n"
   ]
  },
  {
   "cell_type": "markdown",
   "id": "7d8f8f62",
   "metadata": {},
   "source": [
    "###  Q6 Explain deadlocks and race conditions."
   ]
  },
  {
   "cell_type": "markdown",
   "id": "96ddf52a",
   "metadata": {},
   "source": [
    "####  Deadlock and race conditions are two common synchronization issues that can occur in Python multithreading. Here's a brief explanation of each:\n",
    "\n",
    "#### Deadlock: A deadlock is a situation where two or more threads are blocked, waiting for each other to release a resource, resulting in a standstill or complete lockup of the program. Deadlocks can occur when multiple threads are competing for resources, such as locks or semaphores, and they acquire them in different orders. If two threads acquire the same set of resources in opposite orders, a deadlock can occur. In Python, deadlocks can be avoided by using techniques such as locking in a consistent order or using a timeout on locks.\n",
    "\n",
    "#### Race condition: A race condition occurs when two or more threads access a shared resource in an unpredictable order, resulting in incorrect behavior or inconsistent results. This can happen when multiple threads modify a shared variable at the same time, without proper synchronization mechanisms in place, such as locks or semaphores. In Python, race conditions can be avoided by using synchronization mechanisms to ensure that only one thread can access a shared resource at a time. Some examples of synchronization mechanisms in Python include locks, semaphores, and barriers.\n",
    "#### Examples are given below: "
   ]
  },
  {
   "cell_type": "code",
   "execution_count": 7,
   "id": "a6ae5d49",
   "metadata": {},
   "outputs": [],
   "source": [
    "import threading\n",
    "\n",
    "lock1 = threading.Lock()\n",
    "lock2 = threading.Lock()\n",
    "\n",
    "def foo():\n",
    "    lock1.acquire()\n",
    "    lock2.acquire()\n",
    "    # Do some work\n",
    "    lock2.release()\n",
    "    lock1.release()\n",
    "\n",
    "def bar():\n",
    "    lock2.acquire()\n",
    "    lock1.acquire()\n",
    "    # Do some work\n",
    "    lock1.release()\n",
    "    lock2.release()\n",
    "\n",
    "t1 = threading.Thread(target=foo)\n",
    "t2 = threading.Thread(target=bar)\n",
    "\n",
    "t1.start()\n",
    "t2.start()\n",
    "\n",
    "t1.join()\n",
    "t2.join()\n"
   ]
  },
  {
   "cell_type": "code",
   "execution_count": 8,
   "id": "fbd7caac",
   "metadata": {},
   "outputs": [
    {
     "name": "stdout",
     "output_type": "stream",
     "text": [
      "Counter value: 0\n"
     ]
    }
   ],
   "source": [
    "import threading\n",
    "\n",
    "counter = 0\n",
    "\n",
    "def increment():\n",
    "    global counter\n",
    "    for i in range(100000):\n",
    "        counter += 1\n",
    "\n",
    "def decrement():\n",
    "    global counter\n",
    "    for i in range(100000):\n",
    "        counter -= 1\n",
    "\n",
    "t1 = threading.Thread(target=increment)\n",
    "t2 = threading.Thread(target=decrement)\n",
    "\n",
    "t1.start()\n",
    "t2.start()\n",
    "\n",
    "t1.join()\n",
    "t2.join()\n",
    "\n",
    "print(f\"Counter value: {counter}\")\n"
   ]
  },
  {
   "cell_type": "code",
   "execution_count": null,
   "id": "d1653a5b",
   "metadata": {},
   "outputs": [],
   "source": []
  }
 ],
 "metadata": {
  "kernelspec": {
   "display_name": "Python 3 (ipykernel)",
   "language": "python",
   "name": "python3"
  },
  "language_info": {
   "codemirror_mode": {
    "name": "ipython",
    "version": 3
   },
   "file_extension": ".py",
   "mimetype": "text/x-python",
   "name": "python",
   "nbconvert_exporter": "python",
   "pygments_lexer": "ipython3",
   "version": "3.9.12"
  }
 },
 "nbformat": 4,
 "nbformat_minor": 5
}
