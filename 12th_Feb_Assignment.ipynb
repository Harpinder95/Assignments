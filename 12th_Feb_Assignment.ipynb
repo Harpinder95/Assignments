{
 "cells": [
  {
   "cell_type": "markdown",
   "id": "385e7fe2",
   "metadata": {},
   "source": [
    "### What is an Exception in python? Write the difference between Exceptions and syntax error?\n"
   ]
  },
  {
   "cell_type": "markdown",
   "id": "0384391e",
   "metadata": {},
   "source": [
    "####  Exceptions - it is the logical error or the runtime error which occurs during the execution of the program. These runtime errors like when we divide a number by zero, or trying to access an list element which is out of the boundries. These types of errors can be handled by try except statement in python and the rest of the program is executed without any problems.\n",
    "\n",
    "#### Syntax Errors - on the other hand syntax error occurs when the structure of the program does not conform to the rules of the programming language. Syntax errors are usually detected by the compiler or interpreter when the program is being compiled or executed, and they prevent the program from running. Syntax errors are usually caused by mistakes in the source code, such as typos, omissions, or incorrect use of syntax.\n",
    "\n",
    "#### The examples of both is given below::"
   ]
  },
  {
   "cell_type": "markdown",
   "id": "71d9644b",
   "metadata": {},
   "source": [
    "#### Exception"
   ]
  },
  {
   "cell_type": "code",
   "execution_count": 1,
   "id": "59f24c3e",
   "metadata": {},
   "outputs": [
    {
     "ename": "ZeroDivisionError",
     "evalue": "division by zero",
     "output_type": "error",
     "traceback": [
      "\u001b[1;31m---------------------------------------------------------------------------\u001b[0m",
      "\u001b[1;31mZeroDivisionError\u001b[0m                         Traceback (most recent call last)",
      "Input \u001b[1;32mIn [1]\u001b[0m, in \u001b[0;36m<cell line: 2>\u001b[1;34m()\u001b[0m\n\u001b[0;32m      1\u001b[0m a \u001b[38;5;241m=\u001b[39m \u001b[38;5;241m2\u001b[39m\n\u001b[1;32m----> 2\u001b[0m \u001b[43ma\u001b[49m\u001b[38;5;241;43m/\u001b[39;49m\u001b[38;5;241;43m0\u001b[39;49m\n\u001b[0;32m      3\u001b[0m \u001b[38;5;28mprint\u001b[39m(\u001b[38;5;124m\"\u001b[39m\u001b[38;5;124mHello\u001b[39m\u001b[38;5;124m\"\u001b[39m)\n",
      "\u001b[1;31mZeroDivisionError\u001b[0m: division by zero"
     ]
    }
   ],
   "source": [
    "a = 2\n",
    "a/0\n",
    "print(\"Hello\")"
   ]
  },
  {
   "cell_type": "markdown",
   "id": "ec58d8d2",
   "metadata": {},
   "source": [
    "#### Syntax Error"
   ]
  },
  {
   "cell_type": "code",
   "execution_count": 2,
   "id": "f6a1e3f6",
   "metadata": {},
   "outputs": [
    {
     "ename": "SyntaxError",
     "evalue": "invalid syntax (1666768969.py, line 2)",
     "output_type": "error",
     "traceback": [
      "\u001b[1;36m  Input \u001b[1;32mIn [2]\u001b[1;36m\u001b[0m\n\u001b[1;33m    whie(a<5):\u001b[0m\n\u001b[1;37m              ^\u001b[0m\n\u001b[1;31mSyntaxError\u001b[0m\u001b[1;31m:\u001b[0m invalid syntax\n"
     ]
    }
   ],
   "source": [
    "a = 5\n",
    "whie(a<5):\n",
    "    print(\"Hello\")"
   ]
  },
  {
   "cell_type": "code",
   "execution_count": 3,
   "id": "ac4f9eba",
   "metadata": {},
   "outputs": [],
   "source": [
    "import logging\n",
    "logging.basicConfig(filename ='errors.log', level = logging.ERROR)"
   ]
  },
  {
   "cell_type": "markdown",
   "id": "f8675014",
   "metadata": {},
   "source": [
    "###  Q2. What happens when an exception is not handled? Explain with an example?"
   ]
  },
  {
   "cell_type": "markdown",
   "id": "b6906248",
   "metadata": {},
   "source": [
    "####  When an Exception is not handled it raise an error and stop the execution of the program until it is fixed or handled by the Handler."
   ]
  },
  {
   "cell_type": "code",
   "execution_count": 4,
   "id": "089c656c",
   "metadata": {},
   "outputs": [],
   "source": [
    "l = [1,2,3,4,5,6]"
   ]
  },
  {
   "cell_type": "code",
   "execution_count": 5,
   "id": "d664b695",
   "metadata": {},
   "outputs": [
    {
     "ename": "IndexError",
     "evalue": "list index out of range",
     "output_type": "error",
     "traceback": [
      "\u001b[1;31m---------------------------------------------------------------------------\u001b[0m",
      "\u001b[1;31mIndexError\u001b[0m                                Traceback (most recent call last)",
      "Input \u001b[1;32mIn [5]\u001b[0m, in \u001b[0;36m<cell line: 1>\u001b[1;34m()\u001b[0m\n\u001b[1;32m----> 1\u001b[0m \u001b[43ml\u001b[49m\u001b[43m[\u001b[49m\u001b[38;5;241;43m7\u001b[39;49m\u001b[43m]\u001b[49m\n\u001b[0;32m      2\u001b[0m \u001b[38;5;28mprint\u001b[39m(\u001b[38;5;124m\"\u001b[39m\u001b[38;5;124mContinue the execution\u001b[39m\u001b[38;5;124m\"\u001b[39m)\n",
      "\u001b[1;31mIndexError\u001b[0m: list index out of range"
     ]
    }
   ],
   "source": [
    "l[7]\n",
    "print(\"Continue the execution\")"
   ]
  },
  {
   "cell_type": "code",
   "execution_count": 6,
   "id": "73005c08",
   "metadata": {},
   "outputs": [
    {
     "name": "stdout",
     "output_type": "stream",
     "text": [
      "Continue the execution\n"
     ]
    }
   ],
   "source": [
    "try:\n",
    "    l[7]\n",
    "except IndexError as e:\n",
    "    logging.error(\"check the index for : {}\".format(e))\n",
    "print(\"Continue the execution\")"
   ]
  },
  {
   "cell_type": "markdown",
   "id": "ee988596",
   "metadata": {},
   "source": [
    "### Q3. Which python statement is used to catch and handle exception? Explain with example."
   ]
  },
  {
   "cell_type": "markdown",
   "id": "cddc0dc3",
   "metadata": {},
   "source": [
    "####  Try statement is used to catch the error, whereas except statement is used to handle the exception. The code to demonstrate this concept is given below."
   ]
  },
  {
   "cell_type": "code",
   "execution_count": 7,
   "id": "3664d6eb",
   "metadata": {},
   "outputs": [],
   "source": [
    "try:\n",
    "    a = 10\n",
    "    a/0\n",
    "except ZeroDivisionError as e:\n",
    "    logging.error(f\"The error is {e}\")"
   ]
  },
  {
   "cell_type": "markdown",
   "id": "8b60aeab",
   "metadata": {},
   "source": [
    "###  Q4. Explain \n",
    "###         try and else\n",
    "###         finally\n",
    "###         raise"
   ]
  },
  {
   "cell_type": "markdown",
   "id": "ba480e73",
   "metadata": {},
   "source": [
    "#### 1. Try and Else : When there is no error raised in try block then instead of expect block the else block is executed. Example is given below:"
   ]
  },
  {
   "cell_type": "code",
   "execution_count": 8,
   "id": "3d173d55",
   "metadata": {},
   "outputs": [
    {
     "name": "stdout",
     "output_type": "stream",
     "text": [
      "there is no error raised\n"
     ]
    }
   ],
   "source": [
    "try:\n",
    "    a = 12\n",
    "    a/3\n",
    "except Exception as e:\n",
    "    logging.error(f\"The exception is {e}\")\n",
    "else:\n",
    "    print(\"there is no error raised\")"
   ]
  },
  {
   "cell_type": "markdown",
   "id": "c313c663",
   "metadata": {},
   "source": [
    "#### 2. FInally - this block is executed in every case whether the exception raised or not. Example is given below:"
   ]
  },
  {
   "cell_type": "code",
   "execution_count": 9,
   "id": "4fcc210c",
   "metadata": {},
   "outputs": [
    {
     "name": "stdout",
     "output_type": "stream",
     "text": [
      "This is finally block\n"
     ]
    }
   ],
   "source": [
    "try:\n",
    "    file = (\"asn.txt\",'r')\n",
    "    file.read()\n",
    "except (FileNotFoundError,AttributeError) as e:\n",
    "    logging.error(f\"Please fix the {e}\")\n",
    "finally:\n",
    "    print(\"This is finally block\")"
   ]
  },
  {
   "cell_type": "markdown",
   "id": "7737f584",
   "metadata": {},
   "source": [
    "####  Raise - this keyword is used to raise the custom exceptions which might not be an error for python interpreter."
   ]
  },
  {
   "cell_type": "markdown",
   "id": "37d36d47",
   "metadata": {},
   "source": [
    "###  Q5. What are custom exceptions in python? Why do we need Custom Exceptions?"
   ]
  },
  {
   "cell_type": "markdown",
   "id": "8cfda22f",
   "metadata": {},
   "source": [
    "#### Custom Exceptions : The types of exceptions are raised by raise keyword at any given time when ever we need to raise an error, even it is not an error in terms of python interpreter. for exp. we need to enter marks from 0 to 100, and whenever someone entered marks in negative or more than 100 then we have to raise an error, because it is not an error for interpreter. To define this concept more briefly the example is given below"
   ]
  },
  {
   "cell_type": "code",
   "execution_count": 10,
   "id": "c05100f0",
   "metadata": {},
   "outputs": [
    {
     "name": "stdout",
     "output_type": "stream",
     "text": [
      "Please enter your marks: 222\n",
      "Marks should Between 0 to 100.\n"
     ]
    }
   ],
   "source": [
    "try:\n",
    "    marks = int(input(\"Please enter your marks: \"))\n",
    "    \n",
    "    if marks > 100 or marks < 0:\n",
    "        raise ValueError\n",
    "except ValueError as e:\n",
    "    print(\"Marks should Between 0 to 100.\")"
   ]
  },
  {
   "cell_type": "markdown",
   "id": "29e55c5c",
   "metadata": {},
   "source": [
    "### Q6. Create a custom exception class. Use this class to handle an exception"
   ]
  },
  {
   "cell_type": "code",
   "execution_count": 11,
   "id": "102454ba",
   "metadata": {},
   "outputs": [],
   "source": [
    "class validate_marks(Exception):\n",
    "    \n",
    "    def __init__(self,msg):\n",
    "        self.msg = msg"
   ]
  },
  {
   "cell_type": "code",
   "execution_count": 12,
   "id": "ca131b57",
   "metadata": {},
   "outputs": [],
   "source": [
    "def valid_marks(marks):\n",
    "    if marks > 100:\n",
    "        raise validate_marks(\"Marks are more than 100.\")\n",
    "    elif marks < 0:\n",
    "        raise validate_marks(\"Marks are less than 0.\")\n",
    "    else:\n",
    "        print(\"Mark are valid\")"
   ]
  },
  {
   "cell_type": "code",
   "execution_count": 13,
   "id": "f2ee3407",
   "metadata": {},
   "outputs": [
    {
     "name": "stdout",
     "output_type": "stream",
     "text": [
      "Please enter your marks: -12\n",
      "Error.. Marks are less than 0.\n"
     ]
    }
   ],
   "source": [
    "try:\n",
    "    marks = int(input(\"Please enter your marks: \"))\n",
    "    valid_marks(marks)\n",
    "except validate_marks as e:\n",
    "    print(\"Error..\",e)"
   ]
  },
  {
   "cell_type": "code",
   "execution_count": null,
   "id": "f99dd0f8",
   "metadata": {},
   "outputs": [],
   "source": []
  }
 ],
 "metadata": {
  "kernelspec": {
   "display_name": "Python 3 (ipykernel)",
   "language": "python",
   "name": "python3"
  },
  "language_info": {
   "codemirror_mode": {
    "name": "ipython",
    "version": 3
   },
   "file_extension": ".py",
   "mimetype": "text/x-python",
   "name": "python",
   "nbconvert_exporter": "python",
   "pygments_lexer": "ipython3",
   "version": "3.9.12"
  }
 },
 "nbformat": 4,
 "nbformat_minor": 5
}
