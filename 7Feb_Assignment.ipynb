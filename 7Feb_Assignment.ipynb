{
 "cells": [
  {
   "cell_type": "markdown",
   "id": "0bd46c32",
   "metadata": {},
   "source": [
    "### Q1. "
   ]
  },
  {
   "cell_type": "code",
   "execution_count": 1,
   "id": "450e5edc",
   "metadata": {},
   "outputs": [],
   "source": [
    "import re\n",
    "regex = re.compile('[@_!#$^%&*()<>?/\\|\\}{~:,.-]')"
   ]
  },
  {
   "cell_type": "code",
   "execution_count": 2,
   "id": "82e60544",
   "metadata": {},
   "outputs": [],
   "source": [
    "def chk_pwd(p):\n",
    "    upper_cnt = 0\n",
    "    lower_cnt = 0\n",
    "    num_cnt = 0\n",
    "    spcl_chr =0\n",
    "    if len(p) == 10:\n",
    "        \n",
    "        for i in p:\n",
    "            if i.isupper():\n",
    "                upper_cnt = upper_cnt+1\n",
    "            elif i.islower():\n",
    "                lower_cnt = lower_cnt+1\n",
    "            elif i.isdigit():\n",
    "                num_cnt=num_cnt+1\n",
    "            else:\n",
    "                continue\n",
    "        spcl_chr = chk_spcl_chr(p)\n",
    "        print(f\"uppercase characters: {upper_cnt} lowercase character : {lower_cnt}  Number : { num_cnt} Special Character : {spcl_chr}\")\n",
    "        if upper_cnt or lower_cnt or num_cnt or spcl_chr != 0:\n",
    "            if valid(upper_cnt,lower_cnt,num_cnt,spcl_chr):\n",
    "                for i in range(10):\n",
    "                    print('*',end='')\n",
    "                print(\"\\nValid Password\")\n",
    "            else: \n",
    "                print(\"Invalid Password\")\n",
    "    else:\n",
    "        print(\"Password should have only 10 Character..!\")\n",
    "        \n",
    "    "
   ]
  },
  {
   "cell_type": "code",
   "execution_count": 3,
   "id": "99ab563e",
   "metadata": {},
   "outputs": [],
   "source": [
    "def chk_spcl_chr(st):\n",
    "    spcl_cnt=0\n",
    "    for i in st:\n",
    "        if regex.search(i) != None:\n",
    "            spcl_cnt = spcl_cnt+1\n",
    "    return spcl_cnt"
   ]
  },
  {
   "cell_type": "code",
   "execution_count": 4,
   "id": "18ea0f61",
   "metadata": {},
   "outputs": [],
   "source": [
    "def valid(u,l,n,s):\n",
    "    if u>=2 and l>=2:\n",
    "            if n>=1 and s==3:\n",
    "                return True\n",
    "            else: \n",
    "                return False\n"
   ]
  },
  {
   "cell_type": "code",
   "execution_count": 5,
   "id": "3cf94f64",
   "metadata": {},
   "outputs": [],
   "source": [
    "def pwds():\n",
    "    print('''\n",
    "    1) Password must have at least two uppercase letter and lowercase letter\n",
    "    2) Password must have a number and 3 special characters.\n",
    "    3) Password should be 10 characters long.''')\n",
    "    pd = input(\"Enter the password: \")\n",
    "    chk_pwd(pd)      "
   ]
  },
  {
   "cell_type": "code",
   "execution_count": 6,
   "id": "f295d672",
   "metadata": {},
   "outputs": [
    {
     "name": "stdout",
     "output_type": "stream",
     "text": [
      "\n",
      "    1) Password must have at least two uppercase letter and lowercase letter\n",
      "    2) Password must have a number and 3 special characters.\n",
      "    3) Password should be 10 characters long.\n",
      "Enter the password: Hap#$@23Hs\n",
      "uppercase characters: 2 lowercase character : 3  Number : 2 Special Character : 3\n",
      "**********\n",
      "Valid Password\n"
     ]
    }
   ],
   "source": [
    "pwds()"
   ]
  },
  {
   "cell_type": "markdown",
   "id": "8453be6a",
   "metadata": {},
   "source": [
    "## Q2.\n"
   ]
  },
  {
   "cell_type": "markdown",
   "id": "ddc3a14d",
   "metadata": {},
   "source": [
    "####  1) check if the string starts with a particular letter."
   ]
  },
  {
   "cell_type": "code",
   "execution_count": 7,
   "id": "2a271aea",
   "metadata": {},
   "outputs": [
    {
     "name": "stdout",
     "output_type": "stream",
     "text": [
      "Enter any string: Hello World\n"
     ]
    }
   ],
   "source": [
    "str = input(\"Enter any string: \").lower()"
   ]
  },
  {
   "cell_type": "code",
   "execution_count": 8,
   "id": "6d41ce27",
   "metadata": {},
   "outputs": [
    {
     "name": "stdout",
     "output_type": "stream",
     "text": [
      "Enter any letter to find: h\n"
     ]
    }
   ],
   "source": [
    "fnd = input(\"Enter any letter to find: \").lower()"
   ]
  },
  {
   "cell_type": "code",
   "execution_count": 9,
   "id": "26652982",
   "metadata": {},
   "outputs": [],
   "source": [
    "a =  lambda s : print(\"Matched\") if str[0] ==fnd else print(\"Not Matched\")"
   ]
  },
  {
   "cell_type": "code",
   "execution_count": 10,
   "id": "b90b5321",
   "metadata": {},
   "outputs": [
    {
     "name": "stdout",
     "output_type": "stream",
     "text": [
      "Matched\n"
     ]
    }
   ],
   "source": [
    "a(fnd)"
   ]
  },
  {
   "cell_type": "markdown",
   "id": "42d7c14d",
   "metadata": {},
   "source": [
    "#### 2) Check if the string is numeric"
   ]
  },
  {
   "cell_type": "code",
   "execution_count": 11,
   "id": "024de7d3",
   "metadata": {},
   "outputs": [],
   "source": [
    "st = \"213\""
   ]
  },
  {
   "cell_type": "code",
   "execution_count": 12,
   "id": "f7075230",
   "metadata": {},
   "outputs": [],
   "source": [
    "b = lambda x: True if x.isdigit() else False"
   ]
  },
  {
   "cell_type": "code",
   "execution_count": 13,
   "id": "e89bfb4e",
   "metadata": {},
   "outputs": [
    {
     "data": {
      "text/plain": [
       "True"
      ]
     },
     "execution_count": 13,
     "metadata": {},
     "output_type": "execute_result"
    }
   ],
   "source": [
    "b(st)"
   ]
  },
  {
   "cell_type": "markdown",
   "id": "a093880e",
   "metadata": {},
   "source": [
    "#### 3). sort a list of ..?\n"
   ]
  },
  {
   "cell_type": "code",
   "execution_count": 14,
   "id": "7f415953",
   "metadata": {},
   "outputs": [],
   "source": [
    "lst = [('mango',99),('orange',80),('grapes',1000)]\n",
    "ls=['apes','kman','jfaa','sdfsd']"
   ]
  },
  {
   "cell_type": "code",
   "execution_count": 15,
   "id": "be45d04f",
   "metadata": {},
   "outputs": [],
   "source": [
    "lst.sort(key=lambda x:x[1])"
   ]
  },
  {
   "cell_type": "code",
   "execution_count": 16,
   "id": "00e31b9d",
   "metadata": {},
   "outputs": [
    {
     "data": {
      "text/plain": [
       "[('orange', 80), ('mango', 99), ('grapes', 1000)]"
      ]
     },
     "execution_count": 16,
     "metadata": {},
     "output_type": "execute_result"
    }
   ],
   "source": [
    "lst"
   ]
  },
  {
   "cell_type": "markdown",
   "id": "620ea9bb",
   "metadata": {},
   "source": [
    "####  4). find the square of number from 1 to 10"
   ]
  },
  {
   "cell_type": "code",
   "execution_count": 17,
   "id": "95823db8",
   "metadata": {},
   "outputs": [
    {
     "data": {
      "text/plain": [
       "[1, 4, 9, 16, 25, 36, 49, 64, 81, 100]"
      ]
     },
     "execution_count": 17,
     "metadata": {},
     "output_type": "execute_result"
    }
   ],
   "source": [
    "list([i*i for i in range(1,11)])"
   ]
  },
  {
   "cell_type": "markdown",
   "id": "838543d0",
   "metadata": {},
   "source": [
    "#### 5). Find the cube root of number from 1 to 10"
   ]
  },
  {
   "cell_type": "code",
   "execution_count": 18,
   "id": "0b0ee3e8",
   "metadata": {},
   "outputs": [
    {
     "data": {
      "text/plain": [
       "[1.0, 1.26, 1.442, 1.587, 1.71, 1.817, 1.913, 2.0, 2.08, 2.154]"
      ]
     },
     "execution_count": 18,
     "metadata": {},
     "output_type": "execute_result"
    }
   ],
   "source": [
    "list([round(i**(1/3),3) for i in range(1,11)])"
   ]
  },
  {
   "cell_type": "markdown",
   "id": "118dc1b6",
   "metadata": {},
   "source": [
    "#### 6). check if given number is even"
   ]
  },
  {
   "cell_type": "code",
   "execution_count": 19,
   "id": "88994807",
   "metadata": {},
   "outputs": [
    {
     "name": "stdout",
     "output_type": "stream",
     "text": [
      "Enter any number: 4\n"
     ]
    }
   ],
   "source": [
    "n = int(input(\"Enter any number: \"))"
   ]
  },
  {
   "cell_type": "code",
   "execution_count": 20,
   "id": "79ad409c",
   "metadata": {},
   "outputs": [],
   "source": [
    "a =lambda x : print(\"Even Number\") if x%2==0 else print(\"Not Even\")"
   ]
  },
  {
   "cell_type": "code",
   "execution_count": 21,
   "id": "89ac2c39",
   "metadata": {},
   "outputs": [
    {
     "name": "stdout",
     "output_type": "stream",
     "text": [
      "Even Number\n"
     ]
    }
   ],
   "source": [
    "a(n)"
   ]
  },
  {
   "cell_type": "markdown",
   "id": "946da04b",
   "metadata": {},
   "source": [
    "#### 7). Filter odd number..?"
   ]
  },
  {
   "cell_type": "code",
   "execution_count": 22,
   "id": "bb216e31",
   "metadata": {},
   "outputs": [],
   "source": [
    "l = [1,2,3,4,5,6,7,8,9,10]"
   ]
  },
  {
   "cell_type": "code",
   "execution_count": 23,
   "id": "e0cdb072",
   "metadata": {},
   "outputs": [
    {
     "data": {
      "text/plain": [
       "[1, 3, 5, 7, 9]"
      ]
     },
     "execution_count": 23,
     "metadata": {},
     "output_type": "execute_result"
    }
   ],
   "source": [
    "list(filter(lambda x :  x%2!=0 ,l))"
   ]
  },
  {
   "cell_type": "markdown",
   "id": "34d2f28f",
   "metadata": {},
   "source": [
    "####  8). Sort a list of integer..?\n"
   ]
  },
  {
   "cell_type": "code",
   "execution_count": 24,
   "id": "b974ccc8",
   "metadata": {},
   "outputs": [],
   "source": [
    "lss = [1,2,3,4,5,6,-1,-2,-3,-4,-5,0]"
   ]
  },
  {
   "cell_type": "code",
   "execution_count": 25,
   "id": "5c5cb999",
   "metadata": {},
   "outputs": [
    {
     "data": {
      "text/plain": [
       "([1, 2, 3, 4, 5, 6, 0], [-1, -2, -3, -4, -5])"
      ]
     },
     "execution_count": 25,
     "metadata": {},
     "output_type": "execute_result"
    }
   ],
   "source": [
    "list(filter(lambda x: x>=0 ,lss)), list(filter(lambda x: x<0,lss))"
   ]
  },
  {
   "cell_type": "code",
   "execution_count": null,
   "id": "fa8855ff",
   "metadata": {},
   "outputs": [],
   "source": []
  }
 ],
 "metadata": {
  "kernelspec": {
   "display_name": "Python 3 (ipykernel)",
   "language": "python",
   "name": "python3"
  },
  "language_info": {
   "codemirror_mode": {
    "name": "ipython",
    "version": 3
   },
   "file_extension": ".py",
   "mimetype": "text/x-python",
   "name": "python",
   "nbconvert_exporter": "python",
   "pygments_lexer": "ipython3",
   "version": "3.9.12"
  }
 },
 "nbformat": 4,
 "nbformat_minor": 5
}
