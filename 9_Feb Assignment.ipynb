{
 "cells": [
  {
   "cell_type": "markdown",
   "id": "76ec7f14",
   "metadata": {},
   "source": [
    "### Q1. Q1, Create a vehicle class with an init method having instance variables as name_of_vehicle, max_speed and average_of_vehicle..?"
   ]
  },
  {
   "cell_type": "code",
   "execution_count": 1,
   "id": "9016e88e",
   "metadata": {},
   "outputs": [],
   "source": [
    "class vehicle:\n",
    "    \n",
    "    def __init__(self, name_of_vehicle, max_speed, average_of_vehicle):\n",
    "        \n",
    "        self.name_of_vehicle = name_of_vehicle\n",
    "        self.max_speed = max_speed\n",
    "        self.average_of_vehicle = average_of_vehicle\n",
    "    def Show_data(self):\n",
    "        \n",
    "        return f\"Name : {self.name_of_vehicle}  Max Speed: {self.max_speed}M/hr  Average of vehicle: {self.average_of_vehicle}Ltr/hr\""
   ]
  },
  {
   "cell_type": "code",
   "execution_count": 2,
   "id": "836b70ea",
   "metadata": {},
   "outputs": [],
   "source": [
    "vehicle1 = vehicle(\"Bugati\",400,5)"
   ]
  },
  {
   "cell_type": "code",
   "execution_count": 3,
   "id": "268640a1",
   "metadata": {},
   "outputs": [
    {
     "data": {
      "text/plain": [
       "'Name : Bugati  Max Speed: 400M/hr  Average of vehicle: 5Ltr/hr'"
      ]
     },
     "execution_count": 3,
     "metadata": {},
     "output_type": "execute_result"
    }
   ],
   "source": [
    "vehicle1.Show_data()"
   ]
  },
  {
   "cell_type": "markdown",
   "id": "3ce72f25",
   "metadata": {},
   "source": [
    "### Q2. Create a child class car from the vehicle class created in Que 1, which will inherit the vehicle class.Create a method named seating_capacity which takes capacity as an argument and returns the name of the vehicle and its seating capacity."
   ]
  },
  {
   "cell_type": "code",
   "execution_count": 4,
   "id": "d7ade778",
   "metadata": {},
   "outputs": [],
   "source": [
    "class vehicle:\n",
    "    \n",
    "    def Show_data(self):\n",
    "        \n",
    "        return f\"Name : Bugati \""
   ]
  },
  {
   "cell_type": "code",
   "execution_count": 5,
   "id": "860d08a4",
   "metadata": {},
   "outputs": [],
   "source": [
    "class car(vehicle):\n",
    "    \n",
    "    def __init__(self, seating_capacity):\n",
    "        \n",
    "        self.seating_capacity = seating_capacity\n",
    "    \n",
    "    def show(self):\n",
    "        return f\"Seating Capacity: {self.seating_capacity}\""
   ]
  },
  {
   "cell_type": "code",
   "execution_count": 6,
   "id": "9a5ee967",
   "metadata": {},
   "outputs": [],
   "source": [
    "car1 = car(5)"
   ]
  },
  {
   "cell_type": "code",
   "execution_count": 7,
   "id": "f462fb59",
   "metadata": {},
   "outputs": [
    {
     "data": {
      "text/plain": [
       "'Name : Bugati '"
      ]
     },
     "execution_count": 7,
     "metadata": {},
     "output_type": "execute_result"
    }
   ],
   "source": [
    "car1.Show_data()"
   ]
  },
  {
   "cell_type": "code",
   "execution_count": 8,
   "id": "acb32f96",
   "metadata": {},
   "outputs": [
    {
     "data": {
      "text/plain": [
       "'Seating Capacity: 5'"
      ]
     },
     "execution_count": 8,
     "metadata": {},
     "output_type": "execute_result"
    }
   ],
   "source": [
    "car1.show()"
   ]
  },
  {
   "cell_type": "markdown",
   "id": "45c09e94",
   "metadata": {},
   "source": [
    "### Q3. What is multiple inheritance? Write a python code to demonstrate multiple inheritance."
   ]
  },
  {
   "cell_type": "markdown",
   "id": "eb1acdb5",
   "metadata": {},
   "source": [
    "##### Ans. Multiple inheritence means when a class inherit the properties and methods of other classes. The example is given below:"
   ]
  },
  {
   "cell_type": "code",
   "execution_count": 9,
   "id": "344ddd6c",
   "metadata": {},
   "outputs": [],
   "source": [
    "class a:\n",
    "    \n",
    "    def show(self):\n",
    "        return \"This is the method of Class A\"\n",
    "    \n",
    "class b:\n",
    "    \n",
    "    def shows(self):\n",
    "        return \"This is the method of Class B\"\n",
    "    \n",
    "class c(a,b):\n",
    "    \n",
    "    def show_data(self):\n",
    "        return \"This method belongs to \""
   ]
  },
  {
   "cell_type": "code",
   "execution_count": 10,
   "id": "d44d9ccb",
   "metadata": {},
   "outputs": [],
   "source": [
    "obj = c()"
   ]
  },
  {
   "cell_type": "code",
   "execution_count": 11,
   "id": "f0ca0ad8",
   "metadata": {},
   "outputs": [
    {
     "data": {
      "text/plain": [
       "'This is the method of Class A'"
      ]
     },
     "execution_count": 11,
     "metadata": {},
     "output_type": "execute_result"
    }
   ],
   "source": [
    "obj.show()"
   ]
  },
  {
   "cell_type": "code",
   "execution_count": 12,
   "id": "ce012265",
   "metadata": {},
   "outputs": [
    {
     "data": {
      "text/plain": [
       "'This is the method of Class B'"
      ]
     },
     "execution_count": 12,
     "metadata": {},
     "output_type": "execute_result"
    }
   ],
   "source": [
    "obj.shows()"
   ]
  },
  {
   "cell_type": "code",
   "execution_count": 13,
   "id": "2f746d0d",
   "metadata": {},
   "outputs": [
    {
     "data": {
      "text/plain": [
       "'This method belongs to '"
      ]
     },
     "execution_count": 13,
     "metadata": {},
     "output_type": "execute_result"
    }
   ],
   "source": [
    "obj.show_data()"
   ]
  },
  {
   "cell_type": "markdown",
   "id": "8b5b87a0",
   "metadata": {},
   "source": [
    "### Q4. What are getter and setter in python? Create a class and create a getter and a setter method in this class."
   ]
  },
  {
   "cell_type": "markdown",
   "id": "cff5d114",
   "metadata": {},
   "source": [
    "####  Getter  :: is used to access the values of an object's properties. They used to return a specific property, and are typically defined using the @property decorator.\n",
    "\n",
    "####  Setter :: if we want to give access of private variable to the user for modifying we use Setter, the example is given below: "
   ]
  },
  {
   "cell_type": "code",
   "execution_count": 14,
   "id": "9e559527",
   "metadata": {},
   "outputs": [],
   "source": [
    "class bank:\n",
    "    \n",
    "    def __init__(self, account_balance):\n",
    "        self.__account_balance = account_balance\n",
    "    \n",
    "    @property           #Getter\n",
    "    def check_balance(self):\n",
    "        return self.__account_balance\n",
    "    \n",
    "    @check_balance.setter            #Setter\n",
    "    def update_balance(self , amount):\n",
    "        if amount < 0:\n",
    "            pass\n",
    "        else: \n",
    "            self.__account_balance = self.__account_balance + amount \n",
    "            return self.__account_balance\n",
    "    "
   ]
  },
  {
   "cell_type": "code",
   "execution_count": 15,
   "id": "e06e8e07",
   "metadata": {},
   "outputs": [],
   "source": [
    "b1  = bank(5000)"
   ]
  },
  {
   "cell_type": "code",
   "execution_count": 16,
   "id": "8608d323",
   "metadata": {},
   "outputs": [
    {
     "data": {
      "text/plain": [
       "5000"
      ]
     },
     "execution_count": 16,
     "metadata": {},
     "output_type": "execute_result"
    }
   ],
   "source": [
    "b1.check_balance"
   ]
  },
  {
   "cell_type": "code",
   "execution_count": 17,
   "id": "1a8bcfa1",
   "metadata": {},
   "outputs": [],
   "source": [
    "b1.update_balance = 2000"
   ]
  },
  {
   "cell_type": "code",
   "execution_count": 18,
   "id": "fad29bae",
   "metadata": {},
   "outputs": [
    {
     "data": {
      "text/plain": [
       "7000"
      ]
     },
     "execution_count": 18,
     "metadata": {},
     "output_type": "execute_result"
    }
   ],
   "source": [
    "b1.check_balance"
   ]
  },
  {
   "cell_type": "markdown",
   "id": "ac4d5f98",
   "metadata": {},
   "source": [
    "### Q5. What is method overriding , explain with example?"
   ]
  },
  {
   "cell_type": "markdown",
   "id": "c82be5fe",
   "metadata": {},
   "source": [
    "####  Method overriding is used to redefine a method in derived class. The method in the derived class is said to override the method in the base class. To explain it briefly the code is given below:"
   ]
  },
  {
   "cell_type": "code",
   "execution_count": 19,
   "id": "251804e6",
   "metadata": {},
   "outputs": [],
   "source": [
    "class shape:\n",
    "    \n",
    "    def __init__(self, x,y):\n",
    "        self.x =x\n",
    "        self.y = y\n",
    "        \n",
    "    def area(self):\n",
    "        return self.x*self.y\n",
    "\n",
    "class circle(shape):\n",
    "    \n",
    "    def __init__(self, radius):\n",
    "        self.radius = radius\n",
    "        \n",
    "    def area(self):  # Overridden method\n",
    "        return 3.14*self.radius*self.radius"
   ]
  },
  {
   "cell_type": "code",
   "execution_count": 20,
   "id": "d0c5ac88",
   "metadata": {},
   "outputs": [],
   "source": [
    "s = shape(4,3)"
   ]
  },
  {
   "cell_type": "code",
   "execution_count": 21,
   "id": "fccb2095",
   "metadata": {},
   "outputs": [
    {
     "data": {
      "text/plain": [
       "12"
      ]
     },
     "execution_count": 21,
     "metadata": {},
     "output_type": "execute_result"
    }
   ],
   "source": [
    "s.area()"
   ]
  },
  {
   "cell_type": "code",
   "execution_count": 22,
   "id": "581b0d03",
   "metadata": {},
   "outputs": [],
   "source": [
    "c = circle(5)"
   ]
  },
  {
   "cell_type": "code",
   "execution_count": 23,
   "id": "04204c21",
   "metadata": {},
   "outputs": [
    {
     "data": {
      "text/plain": [
       "78.5"
      ]
     },
     "execution_count": 23,
     "metadata": {},
     "output_type": "execute_result"
    }
   ],
   "source": [
    "c.area()"
   ]
  },
  {
   "cell_type": "code",
   "execution_count": null,
   "id": "9f5e6652",
   "metadata": {},
   "outputs": [],
   "source": []
  }
 ],
 "metadata": {
  "kernelspec": {
   "display_name": "Python 3 (ipykernel)",
   "language": "python",
   "name": "python3"
  },
  "language_info": {
   "codemirror_mode": {
    "name": "ipython",
    "version": 3
   },
   "file_extension": ".py",
   "mimetype": "text/x-python",
   "name": "python",
   "nbconvert_exporter": "python",
   "pygments_lexer": "ipython3",
   "version": "3.9.12"
  }
 },
 "nbformat": 4,
 "nbformat_minor": 5
}
