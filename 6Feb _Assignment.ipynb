{
 "cells": [
  {
   "cell_type": "markdown",
   "id": "1a830d7d",
   "metadata": {},
   "source": [
    "### Q1. Create a function which will take a list as an argument and return the product of all the numbersafter creating a flat list. Use the below-given list as an argument for your function. \n",
    "### list1 = [1,2,3,4, [44,55,66, True], False, (34,56,78,89,34), {1,2,3,3,2,1}, {1:34, \"key2\": [55, 67, 78, 89], 4: (45, 22, 61, 34)}, [56, 'data science'], 'Machine Learning']\n",
    "\n"
   ]
  },
  {
   "cell_type": "markdown",
   "id": "8b45851c",
   "metadata": {},
   "source": [
    "###  Ans. "
   ]
  },
  {
   "cell_type": "code",
   "execution_count": 1,
   "id": "c9e0220e",
   "metadata": {},
   "outputs": [],
   "source": [
    "ls = [1,2,3,4, [44,55,66, True], False, (34,56,78,89,34), {1,2,3,3,2,1}, {1:34, \"key2\": [55, 67, 78, 89], 4: (45,\n",
    "22, 61, 34)}, [56, 'data science'], 'Machine Learning']\n",
    "l2 =[]"
   ]
  },
  {
   "cell_type": "code",
   "execution_count": 2,
   "id": "8087803b",
   "metadata": {},
   "outputs": [],
   "source": [
    "def filter_data(ls):\n",
    "    for i in ls:\n",
    "        if type(i)==int:\n",
    "            append_list(i)\n",
    "        elif type(i) == list:\n",
    "            list_num(i)\n",
    "        elif type(i) == dict:\n",
    "            dict_num(i)\n",
    "        elif type(i) == set:\n",
    "            set_num(i)\n",
    "        elif type(i) == tuple:\n",
    "            tuple_num(i)\n",
    "        else:\n",
    "            continue"
   ]
  },
  {
   "cell_type": "code",
   "execution_count": 3,
   "id": "234ad016",
   "metadata": {},
   "outputs": [],
   "source": [
    "def list_num(lst):\n",
    "    \n",
    "    for i in lst:\n",
    "        if type(i)==int:\n",
    "            append_list(i)"
   ]
  },
  {
   "cell_type": "code",
   "execution_count": 4,
   "id": "00a06e20",
   "metadata": {},
   "outputs": [],
   "source": [
    "def dict_num(lt):\n",
    "    \n",
    "    for i,k in lt.items():\n",
    "        if type(i)==int:\n",
    "            append_list(i)\n",
    "            if type(k)==int:\n",
    "                append_list(k)\n",
    "            if type(k) ==tuple:\n",
    "                tuple_num(k)\n",
    "        elif type(k) == int:\n",
    "            append_list(i)\n",
    "        elif type(k) == list:\n",
    "            list_num(k)\n",
    "        elif type(k) == tuple:\n",
    "            tuple_num(k)\n",
    "        else:\n",
    "            continue"
   ]
  },
  {
   "cell_type": "code",
   "execution_count": 5,
   "id": "0284b898",
   "metadata": {},
   "outputs": [],
   "source": [
    "def set_num(lst):\n",
    "    \n",
    "    for i in lst:\n",
    "        if type(i)==int:\n",
    "            append_list(i)"
   ]
  },
  {
   "cell_type": "code",
   "execution_count": 6,
   "id": "202df3ec",
   "metadata": {},
   "outputs": [],
   "source": [
    "def tuple_num(lst):\n",
    "    \n",
    "    for i in lst:\n",
    "        if type(i)==int:\n",
    "            append_list(i)"
   ]
  },
  {
   "cell_type": "code",
   "execution_count": 7,
   "id": "5e79674d",
   "metadata": {},
   "outputs": [],
   "source": [
    "def append_list(lst):\n",
    "        l2.append(lst)"
   ]
  },
  {
   "cell_type": "code",
   "execution_count": 8,
   "id": "1342ea44",
   "metadata": {},
   "outputs": [],
   "source": [
    "filter_data(ls)"
   ]
  },
  {
   "cell_type": "code",
   "execution_count": 9,
   "id": "39e5285a",
   "metadata": {},
   "outputs": [
    {
     "name": "stdout",
     "output_type": "stream",
     "text": [
      "[1, 2, 3, 4, 44, 55, 66, 34, 56, 78, 89, 34, 1, 2, 3, 1, 34, 55, 67, 78, 89, 4, 45, 22, 61, 34, 56] "
     ]
    }
   ],
   "source": [
    "print(l2,end =\" \")"
   ]
  },
  {
   "cell_type": "code",
   "execution_count": 10,
   "id": "d6330643",
   "metadata": {},
   "outputs": [],
   "source": [
    "from functools import reduce"
   ]
  },
  {
   "cell_type": "code",
   "execution_count": 11,
   "id": "ed2473f9",
   "metadata": {},
   "outputs": [
    {
     "data": {
      "text/plain": [
       "4134711838987085478833841242112000"
      ]
     },
     "execution_count": 11,
     "metadata": {},
     "output_type": "execute_result"
    }
   ],
   "source": [
    "reduce(lambda x,y:x*y,l2)"
   ]
  },
  {
   "cell_type": "markdown",
   "id": "6cee282e",
   "metadata": {},
   "source": [
    "##  Q2 Write a python program for encrypting a message sent to you by your friend. The logic of encryption should be such that, for a the output should be z. For b, the output should be y. For c, the output should be x respectively. Also, the whitespace should be replaced with a dollar sign. Keep the punctuation marks unchanged.\n",
    "\n"
   ]
  },
  {
   "cell_type": "code",
   "execution_count": 12,
   "id": "1bf9fdb5",
   "metadata": {},
   "outputs": [],
   "source": [
    "a = ['a','b','c','d','e','f','g','h','i','j','k','l','m']\n",
    "b=['z', 'y', 'x', 'w', 'v', 'u', 't', 's', 'r', 'q', 'p', 'o', 'n']"
   ]
  },
  {
   "cell_type": "code",
   "execution_count": 13,
   "id": "8a6b80d4",
   "metadata": {},
   "outputs": [
    {
     "name": "stdout",
     "output_type": "stream",
     "text": [
      "Enter any message: I want to become a Data Scientist.\n"
     ]
    }
   ],
   "source": [
    "str1 =(input(\"Enter any message: \")).lower()\n",
    "\n",
    "l =[]"
   ]
  },
  {
   "cell_type": "code",
   "execution_count": 14,
   "id": "b142ee27",
   "metadata": {},
   "outputs": [],
   "source": [
    "def fin(i):\n",
    "    l.append(b[i])"
   ]
  },
  {
   "cell_type": "code",
   "execution_count": 15,
   "id": "e2af16f3",
   "metadata": {},
   "outputs": [],
   "source": [
    "def fin2(i):\n",
    "    l.append(a[i])"
   ]
  },
  {
   "cell_type": "code",
   "execution_count": 16,
   "id": "3f3ad8c4",
   "metadata": {},
   "outputs": [],
   "source": [
    "for i in str1:\n",
    "    if i in a:\n",
    "        fin(a.index(i))\n",
    "    elif i in b:\n",
    "        fin2(b.index(i))\n",
    "    elif i==\" \":\n",
    "        l = l+list('$')\n",
    "    else:\n",
    "        l.append(i)"
   ]
  },
  {
   "cell_type": "code",
   "execution_count": 17,
   "id": "e0c84caf",
   "metadata": {},
   "outputs": [
    {
     "name": "stdout",
     "output_type": "stream",
     "text": [
      "Your encrypted message is : r$dzmg$gl$yvxlnv$z$wzgz$hxrvmgrhg.\n"
     ]
    }
   ],
   "source": [
    "ab=\"\"\n",
    "print(f\"Your encrypted message is : {ab.join(l)}\")"
   ]
  }
 ],
 "metadata": {
  "kernelspec": {
   "display_name": "Python 3 (ipykernel)",
   "language": "python",
   "name": "python3"
  },
  "language_info": {
   "codemirror_mode": {
    "name": "ipython",
    "version": 3
   },
   "file_extension": ".py",
   "mimetype": "text/x-python",
   "name": "python",
   "nbconvert_exporter": "python",
   "pygments_lexer": "ipython3",
   "version": "3.9.12"
  }
 },
 "nbformat": 4,
 "nbformat_minor": 5
}
